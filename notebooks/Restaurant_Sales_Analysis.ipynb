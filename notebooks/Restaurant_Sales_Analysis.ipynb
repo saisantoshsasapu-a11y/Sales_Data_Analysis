{
 "cells": [
  {
   "cell_type": "code",
   "execution_count": 1,
   "id": "7d0b97aa-2dcc-4aa1-8544-f66cf4b06f96",
   "metadata": {},
   "outputs": [],
   "source": [
    "# Restaurant Sales Data Analysis\n",
    "# Author: SASAPU SAI SANTOSH\n",
    "# Objective: Derive actionable insights from restaurant sales to boost revenue and optimize operations."
   ]
  },
  {
   "cell_type": "code",
   "execution_count": 2,
   "id": "70a6443e-9279-4e7a-877b-f9e2520771f7",
   "metadata": {},
   "outputs": [],
   "source": [
    "# Importing Libraries\n",
    "import pandas as pd\n",
    "import matplotlib.pyplot as plt\n",
    "import seaborn as sns"
   ]
  },
  {
   "cell_type": "code",
   "execution_count": 3,
   "id": "dfb40e38-6235-4f75-a1f3-abb51f799fd0",
   "metadata": {},
   "outputs": [],
   "source": [
    "# Load Dataset\n",
    "data = pd.read_csv(r\"C:\\Sales_Data_Analysis\\Data\\Sales_Data_Analysis.csv\") "
   ]
  },
  {
   "cell_type": "code",
   "execution_count": 4,
   "id": "07b19d93-fc4e-4cf9-a451-935b2422abc1",
   "metadata": {},
   "outputs": [],
   "source": [
    "# Data Overview"
   ]
  },
  {
   "cell_type": "code",
   "execution_count": 5,
   "id": "a4aebb6b-685a-4c43-a50d-afa8e28a600b",
   "metadata": {},
   "outputs": [
    {
     "data": {
      "text/html": [
       "<div>\n",
       "<style scoped>\n",
       "    .dataframe tbody tr th:only-of-type {\n",
       "        vertical-align: middle;\n",
       "    }\n",
       "\n",
       "    .dataframe tbody tr th {\n",
       "        vertical-align: top;\n",
       "    }\n",
       "\n",
       "    .dataframe thead th {\n",
       "        text-align: right;\n",
       "    }\n",
       "</style>\n",
       "<table border=\"1\" class=\"dataframe\">\n",
       "  <thead>\n",
       "    <tr style=\"text-align: right;\">\n",
       "      <th></th>\n",
       "      <th>Order ID</th>\n",
       "      <th>Date</th>\n",
       "      <th>Product</th>\n",
       "      <th>Price</th>\n",
       "      <th>Quantity</th>\n",
       "      <th>Purchase Type</th>\n",
       "      <th>Payment Method</th>\n",
       "      <th>Manager</th>\n",
       "      <th>City</th>\n",
       "    </tr>\n",
       "  </thead>\n",
       "  <tbody>\n",
       "    <tr>\n",
       "      <th>0</th>\n",
       "      <td>10452</td>\n",
       "      <td>07-11-2022</td>\n",
       "      <td>Fries</td>\n",
       "      <td>3.49</td>\n",
       "      <td>573.07</td>\n",
       "      <td>Online</td>\n",
       "      <td>Gift Card</td>\n",
       "      <td>Tom      Jackson</td>\n",
       "      <td>London</td>\n",
       "    </tr>\n",
       "    <tr>\n",
       "      <th>1</th>\n",
       "      <td>10453</td>\n",
       "      <td>07-11-2022</td>\n",
       "      <td>Beverages</td>\n",
       "      <td>2.95</td>\n",
       "      <td>745.76</td>\n",
       "      <td>Online</td>\n",
       "      <td>Gift Card</td>\n",
       "      <td>Pablo Perez</td>\n",
       "      <td>Madrid</td>\n",
       "    </tr>\n",
       "    <tr>\n",
       "      <th>2</th>\n",
       "      <td>10454</td>\n",
       "      <td>07-11-2022</td>\n",
       "      <td>Sides &amp; Other</td>\n",
       "      <td>4.99</td>\n",
       "      <td>200.40</td>\n",
       "      <td>In-store</td>\n",
       "      <td>Gift Card</td>\n",
       "      <td>Joao    Silva</td>\n",
       "      <td>Lisbon</td>\n",
       "    </tr>\n",
       "    <tr>\n",
       "      <th>3</th>\n",
       "      <td>10455</td>\n",
       "      <td>08-11-2022</td>\n",
       "      <td>Burgers</td>\n",
       "      <td>12.99</td>\n",
       "      <td>569.67</td>\n",
       "      <td>In-store</td>\n",
       "      <td>Credit Card</td>\n",
       "      <td>Walter Muller</td>\n",
       "      <td>Berlin</td>\n",
       "    </tr>\n",
       "    <tr>\n",
       "      <th>4</th>\n",
       "      <td>10456</td>\n",
       "      <td>08-11-2022</td>\n",
       "      <td>Chicken Sandwiches</td>\n",
       "      <td>9.95</td>\n",
       "      <td>201.01</td>\n",
       "      <td>In-store</td>\n",
       "      <td>Credit Card</td>\n",
       "      <td>Walter Muller</td>\n",
       "      <td>Berlin</td>\n",
       "    </tr>\n",
       "  </tbody>\n",
       "</table>\n",
       "</div>"
      ],
      "text/plain": [
       "   Order ID        Date             Product  Price  Quantity Purchase Type  \\\n",
       "0     10452  07-11-2022               Fries   3.49    573.07       Online    \n",
       "1     10453  07-11-2022           Beverages   2.95    745.76       Online    \n",
       "2     10454  07-11-2022       Sides & Other   4.99    200.40     In-store    \n",
       "3     10455  08-11-2022             Burgers  12.99    569.67     In-store    \n",
       "4     10456  08-11-2022  Chicken Sandwiches   9.95    201.01     In-store    \n",
       "\n",
       "  Payment Method             Manager    City  \n",
       "0      Gift Card    Tom      Jackson  London  \n",
       "1      Gift Card         Pablo Perez  Madrid  \n",
       "2      Gift Card       Joao    Silva  Lisbon  \n",
       "3    Credit Card       Walter Muller  Berlin  \n",
       "4    Credit Card       Walter Muller  Berlin  "
      ]
     },
     "execution_count": 5,
     "metadata": {},
     "output_type": "execute_result"
    }
   ],
   "source": [
    "# Display first 5 rows\n",
    "data.head()"
   ]
  },
  {
   "cell_type": "code",
   "execution_count": 6,
   "id": "9a58fbce-48e0-46f1-b6c2-9441c8b36ff2",
   "metadata": {},
   "outputs": [
    {
     "name": "stdout",
     "output_type": "stream",
     "text": [
      "<class 'pandas.core.frame.DataFrame'>\n",
      "RangeIndex: 254 entries, 0 to 253\n",
      "Data columns (total 9 columns):\n",
      " #   Column          Non-Null Count  Dtype  \n",
      "---  ------          --------------  -----  \n",
      " 0   Order ID        254 non-null    int64  \n",
      " 1   Date            254 non-null    object \n",
      " 2   Product         254 non-null    object \n",
      " 3   Price           254 non-null    float64\n",
      " 4   Quantity        254 non-null    float64\n",
      " 5   Purchase Type   254 non-null    object \n",
      " 6   Payment Method  254 non-null    object \n",
      " 7   Manager         254 non-null    object \n",
      " 8   City            254 non-null    object \n",
      "dtypes: float64(2), int64(1), object(6)\n",
      "memory usage: 18.0+ KB\n"
     ]
    }
   ],
   "source": [
    "# Check basic info\n",
    "data.info()"
   ]
  },
  {
   "cell_type": "code",
   "execution_count": 7,
   "id": "f0939f83-226a-4778-9042-3a2fe8c86522",
   "metadata": {},
   "outputs": [
    {
     "data": {
      "text/plain": [
       "Order ID          0\n",
       "Date              0\n",
       "Product           0\n",
       "Price             0\n",
       "Quantity          0\n",
       "Purchase Type     0\n",
       "Payment Method    0\n",
       "Manager           0\n",
       "City              0\n",
       "dtype: int64"
      ]
     },
     "execution_count": 7,
     "metadata": {},
     "output_type": "execute_result"
    }
   ],
   "source": [
    "# Check missing values\n",
    "data.isnull().sum()"
   ]
  },
  {
   "cell_type": "code",
   "execution_count": 8,
   "id": "cf285fba-656a-4bcb-a09c-a22d37907d03",
   "metadata": {},
   "outputs": [
    {
     "data": {
      "image/png": "[encoded data removed]",
      "text/plain": [
       "<Figure size 1000x500 with 1 Axes>"
      ]
     },
     "metadata": {},
     "output_type": "display_data"
    }
   ],
   "source": [
    "# Visualize missing data\n",
    "plt.figure(figsize=(10,5))\n",
    "sns.heatmap(data.isnull(), cbar=False, cmap='coolwarm')\n",
    "plt.title('Missing Values Heatmap')\n",
    "plt.show()"
   ]
  },
  {
   "cell_type": "code",
   "execution_count": 9,
   "id": "70ccd9da-83b3-4c72-abf9-164e37b12ae6",
   "metadata": {},
   "outputs": [],
   "source": [
    "#Calculate Total Sales in the Restaurant?"
   ]
  },
  {
   "cell_type": "code",
   "execution_count": 10,
   "id": "b9f685c7-9327-47ac-ab30-4d2850b2ae9d",
   "metadata": {},
   "outputs": [],
   "source": [
    "# Convert 'Date' column to datetime\n",
    "data['Date'] = pd.to_datetime(data['Date'], errors='coerce')"
   ]
  },
  {
   "cell_type": "code",
   "execution_count": 11,
   "id": "49b9766c-c81f-468d-a9b7-f24d04388c94",
   "metadata": {},
   "outputs": [],
   "source": [
    "# Add 'Total Sales' column (Price * Quantity)\n",
    "data['Total Sales'] = data['Price'] * data['Quantity']"
   ]
  },
  {
   "cell_type": "code",
   "execution_count": 12,
   "id": "8cb3cfbc-1bc4-416c-b206-4141ae51c985",
   "metadata": {},
   "outputs": [
    {
     "data": {
      "text/html": [
       "<div>\n",
       "<style scoped>\n",
       "    .dataframe tbody tr th:only-of-type {\n",
       "        vertical-align: middle;\n",
       "    }\n",
       "\n",
       "    .dataframe tbody tr th {\n",
       "        vertical-align: top;\n",
       "    }\n",
       "\n",
       "    .dataframe thead th {\n",
       "        text-align: right;\n",
       "    }\n",
       "</style>\n",
       "<table border=\"1\" class=\"dataframe\">\n",
       "  <thead>\n",
       "    <tr style=\"text-align: right;\">\n",
       "      <th></th>\n",
       "      <th>Order ID</th>\n",
       "      <th>Date</th>\n",
       "      <th>Product</th>\n",
       "      <th>Price</th>\n",
       "      <th>Quantity</th>\n",
       "      <th>Purchase Type</th>\n",
       "      <th>Payment Method</th>\n",
       "      <th>Manager</th>\n",
       "      <th>City</th>\n",
       "      <th>Total Sales</th>\n",
       "    </tr>\n",
       "  </thead>\n",
       "  <tbody>\n",
       "    <tr>\n",
       "      <th>0</th>\n",
       "      <td>10452</td>\n",
       "      <td>2022-07-11</td>\n",
       "      <td>Fries</td>\n",
       "      <td>3.49</td>\n",
       "      <td>573.07</td>\n",
       "      <td>Online</td>\n",
       "      <td>Gift Card</td>\n",
       "      <td>Tom      Jackson</td>\n",
       "      <td>London</td>\n",
       "      <td>2000.0143</td>\n",
       "    </tr>\n",
       "    <tr>\n",
       "      <th>1</th>\n",
       "      <td>10453</td>\n",
       "      <td>2022-07-11</td>\n",
       "      <td>Beverages</td>\n",
       "      <td>2.95</td>\n",
       "      <td>745.76</td>\n",
       "      <td>Online</td>\n",
       "      <td>Gift Card</td>\n",
       "      <td>Pablo Perez</td>\n",
       "      <td>Madrid</td>\n",
       "      <td>2199.9920</td>\n",
       "    </tr>\n",
       "    <tr>\n",
       "      <th>2</th>\n",
       "      <td>10454</td>\n",
       "      <td>2022-07-11</td>\n",
       "      <td>Sides &amp; Other</td>\n",
       "      <td>4.99</td>\n",
       "      <td>200.40</td>\n",
       "      <td>In-store</td>\n",
       "      <td>Gift Card</td>\n",
       "      <td>Joao    Silva</td>\n",
       "      <td>Lisbon</td>\n",
       "      <td>999.9960</td>\n",
       "    </tr>\n",
       "    <tr>\n",
       "      <th>3</th>\n",
       "      <td>10455</td>\n",
       "      <td>2022-08-11</td>\n",
       "      <td>Burgers</td>\n",
       "      <td>12.99</td>\n",
       "      <td>569.67</td>\n",
       "      <td>In-store</td>\n",
       "      <td>Credit Card</td>\n",
       "      <td>Walter Muller</td>\n",
       "      <td>Berlin</td>\n",
       "      <td>7400.0133</td>\n",
       "    </tr>\n",
       "    <tr>\n",
       "      <th>4</th>\n",
       "      <td>10456</td>\n",
       "      <td>2022-08-11</td>\n",
       "      <td>Chicken Sandwiches</td>\n",
       "      <td>9.95</td>\n",
       "      <td>201.01</td>\n",
       "      <td>In-store</td>\n",
       "      <td>Credit Card</td>\n",
       "      <td>Walter Muller</td>\n",
       "      <td>Berlin</td>\n",
       "      <td>2000.0495</td>\n",
       "    </tr>\n",
       "  </tbody>\n",
       "</table>\n",
       "</div>"
      ],
      "text/plain": [
       "   Order ID       Date             Product  Price  Quantity Purchase Type  \\\n",
       "0     10452 2022-07-11               Fries   3.49    573.07       Online    \n",
       "1     10453 2022-07-11           Beverages   2.95    745.76       Online    \n",
       "2     10454 2022-07-11       Sides & Other   4.99    200.40     In-store    \n",
       "3     10455 2022-08-11             Burgers  12.99    569.67     In-store    \n",
       "4     10456 2022-08-11  Chicken Sandwiches   9.95    201.01     In-store    \n",
       "\n",
       "  Payment Method             Manager    City  Total Sales  \n",
       "0      Gift Card    Tom      Jackson  London    2000.0143  \n",
       "1      Gift Card         Pablo Perez  Madrid    2199.9920  \n",
       "2      Gift Card       Joao    Silva  Lisbon     999.9960  \n",
       "3    Credit Card       Walter Muller  Berlin    7400.0133  \n",
       "4    Credit Card       Walter Muller  Berlin    2000.0495  "
      ]
     },
     "execution_count": 12,
     "metadata": {},
     "output_type": "execute_result"
    }
   ],
   "source": [
    "# Step 9: Verify new column\n",
    "data.head()"
   ]
  },
  {
   "cell_type": "code",
   "execution_count": 13,
   "id": "a350df49-45bf-422e-b000-ec83f8a9eda9",
   "metadata": {},
   "outputs": [
    {
     "name": "stdout",
     "output_type": "stream",
     "text": [
      "Total Revenue:  769515.8592000001\n"
     ]
    }
   ],
   "source": [
    "print(\"Total Revenue: \", data['Total Sales'].sum())"
   ]
  },
  {
   "cell_type": "code",
   "execution_count": 14,
   "id": "83b5e0a3-d380-4370-a516-603a86539897",
   "metadata": {},
   "outputs": [
    {
     "name": "stdout",
     "output_type": "stream",
     "text": [
      "Total Orders:  254\n"
     ]
    }
   ],
   "source": [
    "print(\"Total Orders: \", data['Order ID'].nunique())"
   ]
  },
  {
   "cell_type": "code",
   "execution_count": 15,
   "id": "1f060421-fd23-4b93-83ff-7f00e0dee765",
   "metadata": {},
   "outputs": [],
   "source": [
    "# Drop duplicates in the data if it was there\n",
    "data.drop_duplicates(inplace=True)"
   ]
  },
  {
   "cell_type": "code",
   "execution_count": 16,
   "id": "b3f0d1fd-fd47-481e-a2c5-ced13724acef",
   "metadata": {},
   "outputs": [
    {
     "data": {
      "text/plain": [
       "Index(['Order ID', 'Date', 'Product', 'Price', 'Quantity', 'Purchase Type',\n",
       "       'Payment Method', 'Manager', 'City', 'Total Sales'],\n",
       "      dtype='object')"
      ]
     },
     "execution_count": 16,
     "metadata": {},
     "output_type": "execute_result"
    }
   ],
   "source": [
    "data.columns               #To get the column names"
   ]
  },
  {
   "cell_type": "code",
   "execution_count": 17,
   "id": "30b4374e-b9ff-4b83-ad42-f5e5aabeae8c",
   "metadata": {},
   "outputs": [
    {
     "data": {
      "text/plain": [
       "0        Tom      Jackson\n",
       "1             Pablo Perez\n",
       "2           Joao    Silva\n",
       "3           Walter Muller\n",
       "4           Walter Muller\n",
       "              ...        \n",
       "249         Walter Muller\n",
       "250         Walter Muller\n",
       "251         Walter Muller\n",
       "252         Walter Muller\n",
       "253         Walter Muller\n",
       "Name: Manager, Length: 254, dtype: object"
      ]
     },
     "execution_count": 17,
     "metadata": {},
     "output_type": "execute_result"
    }
   ],
   "source": [
    "data.Manager              #To get about managers from the data"
   ]
  },
  {
   "cell_type": "code",
   "execution_count": 18,
   "id": "d6c54360-8dfc-414e-9af8-0fb0dea98665",
   "metadata": {},
   "outputs": [
    {
     "data": {
      "text/plain": [
       "array(['Tom      Jackson', '       Pablo Perez', 'Joao    Silva',\n",
       "       'Walter Muller', 'Remy    Monet', 'Remy Monet',\n",
       "       '       Remy Monet', 'Remy     Monet', 'Pablo Perez',\n",
       "       'Pablo   Perez', 'Pablo  Perez', 'Pablo    Perez', 'Joao Silva',\n",
       "       'Tom Jackson'], dtype=object)"
      ]
     },
     "execution_count": 18,
     "metadata": {},
     "output_type": "execute_result"
    }
   ],
   "source": [
    "data.Manager.unique()                     # To show all the unique values of the column"
   ]
  },
  {
   "cell_type": "code",
   "execution_count": 19,
   "id": "ee4791eb-8d19-42ad-83a9-2e6081d1f3ba",
   "metadata": {},
   "outputs": [
    {
     "data": {
      "text/plain": [
       "14"
      ]
     },
     "execution_count": 19,
     "metadata": {},
     "output_type": "execute_result"
    }
   ],
   "source": [
    "data.Manager.nunique()                      # To show count of unique values present in the column"
   ]
  },
  {
   "cell_type": "code",
   "execution_count": 20,
   "id": "ec791b2e-f59d-412a-a060-81ccabf4e334",
   "metadata": {},
   "outputs": [],
   "source": [
    "data['Manager'] = data['Manager'].str.strip().str.replace(r'\\s+', ' ', regex=True)   # To remove extra spaces in names"
   ]
  },
  {
   "cell_type": "code",
   "execution_count": 21,
   "id": "182b9489-385c-4729-a21f-ac5c3e9f947e",
   "metadata": {},
   "outputs": [
    {
     "data": {
      "text/html": [
       "<div>\n",
       "<style scoped>\n",
       "    .dataframe tbody tr th:only-of-type {\n",
       "        vertical-align: middle;\n",
       "    }\n",
       "\n",
       "    .dataframe tbody tr th {\n",
       "        vertical-align: top;\n",
       "    }\n",
       "\n",
       "    .dataframe thead th {\n",
       "        text-align: right;\n",
       "    }\n",
       "</style>\n",
       "<table border=\"1\" class=\"dataframe\">\n",
       "  <thead>\n",
       "    <tr style=\"text-align: right;\">\n",
       "      <th></th>\n",
       "      <th>Order ID</th>\n",
       "      <th>Date</th>\n",
       "      <th>Product</th>\n",
       "      <th>Price</th>\n",
       "      <th>Quantity</th>\n",
       "      <th>Purchase Type</th>\n",
       "      <th>Payment Method</th>\n",
       "      <th>Manager</th>\n",
       "      <th>City</th>\n",
       "      <th>Total Sales</th>\n",
       "    </tr>\n",
       "  </thead>\n",
       "  <tbody>\n",
       "    <tr>\n",
       "      <th>0</th>\n",
       "      <td>10452</td>\n",
       "      <td>2022-07-11</td>\n",
       "      <td>Fries</td>\n",
       "      <td>3.49</td>\n",
       "      <td>573.07</td>\n",
       "      <td>Online</td>\n",
       "      <td>Gift Card</td>\n",
       "      <td>Tom Jackson</td>\n",
       "      <td>London</td>\n",
       "      <td>2000.0143</td>\n",
       "    </tr>\n",
       "    <tr>\n",
       "      <th>1</th>\n",
       "      <td>10453</td>\n",
       "      <td>2022-07-11</td>\n",
       "      <td>Beverages</td>\n",
       "      <td>2.95</td>\n",
       "      <td>745.76</td>\n",
       "      <td>Online</td>\n",
       "      <td>Gift Card</td>\n",
       "      <td>Pablo Perez</td>\n",
       "      <td>Madrid</td>\n",
       "      <td>2199.9920</td>\n",
       "    </tr>\n",
       "    <tr>\n",
       "      <th>2</th>\n",
       "      <td>10454</td>\n",
       "      <td>2022-07-11</td>\n",
       "      <td>Sides &amp; Other</td>\n",
       "      <td>4.99</td>\n",
       "      <td>200.40</td>\n",
       "      <td>In-store</td>\n",
       "      <td>Gift Card</td>\n",
       "      <td>Joao Silva</td>\n",
       "      <td>Lisbon</td>\n",
       "      <td>999.9960</td>\n",
       "    </tr>\n",
       "    <tr>\n",
       "      <th>3</th>\n",
       "      <td>10455</td>\n",
       "      <td>2022-08-11</td>\n",
       "      <td>Burgers</td>\n",
       "      <td>12.99</td>\n",
       "      <td>569.67</td>\n",
       "      <td>In-store</td>\n",
       "      <td>Credit Card</td>\n",
       "      <td>Walter Muller</td>\n",
       "      <td>Berlin</td>\n",
       "      <td>7400.0133</td>\n",
       "    </tr>\n",
       "    <tr>\n",
       "      <th>4</th>\n",
       "      <td>10456</td>\n",
       "      <td>2022-08-11</td>\n",
       "      <td>Chicken Sandwiches</td>\n",
       "      <td>9.95</td>\n",
       "      <td>201.01</td>\n",
       "      <td>In-store</td>\n",
       "      <td>Credit Card</td>\n",
       "      <td>Walter Muller</td>\n",
       "      <td>Berlin</td>\n",
       "      <td>2000.0495</td>\n",
       "    </tr>\n",
       "    <tr>\n",
       "      <th>5</th>\n",
       "      <td>10457</td>\n",
       "      <td>2022-08-11</td>\n",
       "      <td>Fries</td>\n",
       "      <td>3.49</td>\n",
       "      <td>573.07</td>\n",
       "      <td>In-store</td>\n",
       "      <td>Credit Card</td>\n",
       "      <td>Remy Monet</td>\n",
       "      <td>Paris</td>\n",
       "      <td>2000.0143</td>\n",
       "    </tr>\n",
       "    <tr>\n",
       "      <th>6</th>\n",
       "      <td>10459</td>\n",
       "      <td>2022-08-11</td>\n",
       "      <td>Sides &amp; Other</td>\n",
       "      <td>4.99</td>\n",
       "      <td>200.40</td>\n",
       "      <td>In-store</td>\n",
       "      <td>Credit Card</td>\n",
       "      <td>Walter Muller</td>\n",
       "      <td>Berlin</td>\n",
       "      <td>999.9960</td>\n",
       "    </tr>\n",
       "    <tr>\n",
       "      <th>7</th>\n",
       "      <td>10460</td>\n",
       "      <td>2022-09-11</td>\n",
       "      <td>Burgers</td>\n",
       "      <td>12.99</td>\n",
       "      <td>554.27</td>\n",
       "      <td>In-store</td>\n",
       "      <td>Credit Card</td>\n",
       "      <td>Remy Monet</td>\n",
       "      <td>Paris</td>\n",
       "      <td>7199.9673</td>\n",
       "    </tr>\n",
       "    <tr>\n",
       "      <th>8</th>\n",
       "      <td>10461</td>\n",
       "      <td>2022-09-11</td>\n",
       "      <td>Chicken Sandwiches</td>\n",
       "      <td>9.95</td>\n",
       "      <td>201.01</td>\n",
       "      <td>In-store</td>\n",
       "      <td>Credit Card</td>\n",
       "      <td>Remy Monet</td>\n",
       "      <td>Paris</td>\n",
       "      <td>2000.0495</td>\n",
       "    </tr>\n",
       "    <tr>\n",
       "      <th>9</th>\n",
       "      <td>10462</td>\n",
       "      <td>2022-09-11</td>\n",
       "      <td>Fries</td>\n",
       "      <td>3.49</td>\n",
       "      <td>573.07</td>\n",
       "      <td>In-store</td>\n",
       "      <td>Credit Card</td>\n",
       "      <td>Remy Monet</td>\n",
       "      <td>Paris</td>\n",
       "      <td>2000.0143</td>\n",
       "    </tr>\n",
       "  </tbody>\n",
       "</table>\n",
       "</div>"
      ],
      "text/plain": [
       "   Order ID       Date             Product  Price  Quantity Purchase Type  \\\n",
       "0     10452 2022-07-11               Fries   3.49    573.07       Online    \n",
       "1     10453 2022-07-11           Beverages   2.95    745.76       Online    \n",
       "2     10454 2022-07-11       Sides & Other   4.99    200.40     In-store    \n",
       "3     10455 2022-08-11             Burgers  12.99    569.67     In-store    \n",
       "4     10456 2022-08-11  Chicken Sandwiches   9.95    201.01     In-store    \n",
       "5     10457 2022-08-11               Fries   3.49    573.07     In-store    \n",
       "6     10459 2022-08-11       Sides & Other   4.99    200.40     In-store    \n",
       "7     10460 2022-09-11             Burgers  12.99    554.27     In-store    \n",
       "8     10461 2022-09-11  Chicken Sandwiches   9.95    201.01     In-store    \n",
       "9     10462 2022-09-11               Fries   3.49    573.07     In-store    \n",
       "\n",
       "  Payment Method        Manager    City  Total Sales  \n",
       "0      Gift Card    Tom Jackson  London    2000.0143  \n",
       "1      Gift Card    Pablo Perez  Madrid    2199.9920  \n",
       "2      Gift Card     Joao Silva  Lisbon     999.9960  \n",
       "3    Credit Card  Walter Muller  Berlin    7400.0133  \n",
       "4    Credit Card  Walter Muller  Berlin    2000.0495  \n",
       "5    Credit Card     Remy Monet   Paris    2000.0143  \n",
       "6    Credit Card  Walter Muller  Berlin     999.9960  \n",
       "7    Credit Card     Remy Monet   Paris    7199.9673  \n",
       "8    Credit Card     Remy Monet   Paris    2000.0495  \n",
       "9    Credit Card     Remy Monet   Paris    2000.0143  "
      ]
     },
     "execution_count": 21,
     "metadata": {},
     "output_type": "execute_result"
    }
   ],
   "source": [
    "data.head(10)"
   ]
  },
  {
   "cell_type": "code",
   "execution_count": 22,
   "id": "4eda206a-b07f-4b1a-82d2-c18743405954",
   "metadata": {},
   "outputs": [
    {
     "data": {
      "text/plain": [
       "array(['Tom Jackson', 'Pablo Perez', 'Joao Silva', 'Walter Muller',\n",
       "       'Remy Monet'], dtype=object)"
      ]
     },
     "execution_count": 22,
     "metadata": {},
     "output_type": "execute_result"
    }
   ],
   "source": [
    "data['Manager'].unique()             # To show all the unique values of the column"
   ]
  },
  {
   "cell_type": "code",
   "execution_count": 23,
   "id": "0b59a91f-e732-46ed-a0c7-56676242a26e",
   "metadata": {},
   "outputs": [
    {
     "data": {
      "text/plain": [
       "5"
      ]
     },
     "execution_count": 23,
     "metadata": {},
     "output_type": "execute_result"
    }
   ],
   "source": [
    "data['Manager'].nunique()             # To show count of unique values present in the column"
   ]
  },
  {
   "cell_type": "code",
   "execution_count": 24,
   "id": "c6f65dd2-0566-4f94-8e1e-e6056d88169c",
   "metadata": {},
   "outputs": [],
   "source": [
    "#To remove duplicate records"
   ]
  },
  {
   "cell_type": "code",
   "execution_count": 25,
   "id": "0bfb1ec1-6e73-4fff-9916-53c3ef99ff44",
   "metadata": {},
   "outputs": [
    {
     "data": {
      "text/html": [
       "<div>\n",
       "<style scoped>\n",
       "    .dataframe tbody tr th:only-of-type {\n",
       "        vertical-align: middle;\n",
       "    }\n",
       "\n",
       "    .dataframe tbody tr th {\n",
       "        vertical-align: top;\n",
       "    }\n",
       "\n",
       "    .dataframe thead th {\n",
       "        text-align: right;\n",
       "    }\n",
       "</style>\n",
       "<table border=\"1\" class=\"dataframe\">\n",
       "  <thead>\n",
       "    <tr style=\"text-align: right;\">\n",
       "      <th></th>\n",
       "      <th>Order ID</th>\n",
       "      <th>Date</th>\n",
       "      <th>Product</th>\n",
       "      <th>Price</th>\n",
       "      <th>Quantity</th>\n",
       "      <th>Purchase Type</th>\n",
       "      <th>Payment Method</th>\n",
       "      <th>Manager</th>\n",
       "      <th>City</th>\n",
       "      <th>Total Sales</th>\n",
       "    </tr>\n",
       "  </thead>\n",
       "  <tbody>\n",
       "    <tr>\n",
       "      <th>0</th>\n",
       "      <td>10452</td>\n",
       "      <td>2022-07-11</td>\n",
       "      <td>Fries</td>\n",
       "      <td>3.49</td>\n",
       "      <td>573.07</td>\n",
       "      <td>Online</td>\n",
       "      <td>Gift Card</td>\n",
       "      <td>Tom Jackson</td>\n",
       "      <td>London</td>\n",
       "      <td>2000.0143</td>\n",
       "    </tr>\n",
       "    <tr>\n",
       "      <th>1</th>\n",
       "      <td>10453</td>\n",
       "      <td>2022-07-11</td>\n",
       "      <td>Beverages</td>\n",
       "      <td>2.95</td>\n",
       "      <td>745.76</td>\n",
       "      <td>Online</td>\n",
       "      <td>Gift Card</td>\n",
       "      <td>Pablo Perez</td>\n",
       "      <td>Madrid</td>\n",
       "      <td>2199.9920</td>\n",
       "    </tr>\n",
       "    <tr>\n",
       "      <th>2</th>\n",
       "      <td>10454</td>\n",
       "      <td>2022-07-11</td>\n",
       "      <td>Sides &amp; Other</td>\n",
       "      <td>4.99</td>\n",
       "      <td>200.40</td>\n",
       "      <td>In-store</td>\n",
       "      <td>Gift Card</td>\n",
       "      <td>Joao Silva</td>\n",
       "      <td>Lisbon</td>\n",
       "      <td>999.9960</td>\n",
       "    </tr>\n",
       "    <tr>\n",
       "      <th>3</th>\n",
       "      <td>10455</td>\n",
       "      <td>2022-08-11</td>\n",
       "      <td>Burgers</td>\n",
       "      <td>12.99</td>\n",
       "      <td>569.67</td>\n",
       "      <td>In-store</td>\n",
       "      <td>Credit Card</td>\n",
       "      <td>Walter Muller</td>\n",
       "      <td>Berlin</td>\n",
       "      <td>7400.0133</td>\n",
       "    </tr>\n",
       "    <tr>\n",
       "      <th>4</th>\n",
       "      <td>10456</td>\n",
       "      <td>2022-08-11</td>\n",
       "      <td>Chicken Sandwiches</td>\n",
       "      <td>9.95</td>\n",
       "      <td>201.01</td>\n",
       "      <td>In-store</td>\n",
       "      <td>Credit Card</td>\n",
       "      <td>Walter Muller</td>\n",
       "      <td>Berlin</td>\n",
       "      <td>2000.0495</td>\n",
       "    </tr>\n",
       "  </tbody>\n",
       "</table>\n",
       "</div>"
      ],
      "text/plain": [
       "   Order ID       Date             Product  Price  Quantity Purchase Type  \\\n",
       "0     10452 2022-07-11               Fries   3.49    573.07       Online    \n",
       "1     10453 2022-07-11           Beverages   2.95    745.76       Online    \n",
       "2     10454 2022-07-11       Sides & Other   4.99    200.40     In-store    \n",
       "3     10455 2022-08-11             Burgers  12.99    569.67     In-store    \n",
       "4     10456 2022-08-11  Chicken Sandwiches   9.95    201.01     In-store    \n",
       "\n",
       "  Payment Method        Manager    City  Total Sales  \n",
       "0      Gift Card    Tom Jackson  London    2000.0143  \n",
       "1      Gift Card    Pablo Perez  Madrid    2199.9920  \n",
       "2      Gift Card     Joao Silva  Lisbon     999.9960  \n",
       "3    Credit Card  Walter Muller  Berlin    7400.0133  \n",
       "4    Credit Card  Walter Muller  Berlin    2000.0495  "
      ]
     },
     "execution_count": 25,
     "metadata": {},
     "output_type": "execute_result"
    }
   ],
   "source": [
    "data.head()                     # to show top 5 records of the dataframe"
   ]
  },
  {
   "cell_type": "code",
   "execution_count": 26,
   "id": "f607b511-5342-4581-a9b7-ba82420c0f46",
   "metadata": {},
   "outputs": [
    {
     "data": {
      "text/html": [
       "<div>\n",
       "<style scoped>\n",
       "    .dataframe tbody tr th:only-of-type {\n",
       "        vertical-align: middle;\n",
       "    }\n",
       "\n",
       "    .dataframe tbody tr th {\n",
       "        vertical-align: top;\n",
       "    }\n",
       "\n",
       "    .dataframe thead th {\n",
       "        text-align: right;\n",
       "    }\n",
       "</style>\n",
       "<table border=\"1\" class=\"dataframe\">\n",
       "  <thead>\n",
       "    <tr style=\"text-align: right;\">\n",
       "      <th></th>\n",
       "      <th>Order ID</th>\n",
       "      <th>Date</th>\n",
       "      <th>Price</th>\n",
       "      <th>Quantity</th>\n",
       "      <th>Total Sales</th>\n",
       "    </tr>\n",
       "  </thead>\n",
       "  <tbody>\n",
       "    <tr>\n",
       "      <th>count</th>\n",
       "      <td>254.000000</td>\n",
       "      <td>83</td>\n",
       "      <td>254.000000</td>\n",
       "      <td>254.000000</td>\n",
       "      <td>254.000000</td>\n",
       "    </tr>\n",
       "    <tr>\n",
       "      <th>mean</th>\n",
       "      <td>10584.133858</td>\n",
       "      <td>2022-07-30 18:47:42.650602496</td>\n",
       "      <td>7.102323</td>\n",
       "      <td>460.611457</td>\n",
       "      <td>3029.589997</td>\n",
       "    </tr>\n",
       "    <tr>\n",
       "      <th>min</th>\n",
       "      <td>10452.000000</td>\n",
       "      <td>2022-01-12 00:00:00</td>\n",
       "      <td>2.950000</td>\n",
       "      <td>200.400000</td>\n",
       "      <td>999.996000</td>\n",
       "    </tr>\n",
       "    <tr>\n",
       "      <th>25%</th>\n",
       "      <td>10520.250000</td>\n",
       "      <td>2022-05-12 00:00:00</td>\n",
       "      <td>3.490000</td>\n",
       "      <td>201.010000</td>\n",
       "      <td>2000.011500</td>\n",
       "    </tr>\n",
       "    <tr>\n",
       "      <th>50%</th>\n",
       "      <td>10583.500000</td>\n",
       "      <td>2022-08-12 00:00:00</td>\n",
       "      <td>4.990000</td>\n",
       "      <td>538.880000</td>\n",
       "      <td>2100.020400</td>\n",
       "    </tr>\n",
       "    <tr>\n",
       "      <th>75%</th>\n",
       "      <td>10649.750000</td>\n",
       "      <td>2022-10-12 00:00:00</td>\n",
       "      <td>9.950000</td>\n",
       "      <td>677.440000</td>\n",
       "      <td>2400.003200</td>\n",
       "    </tr>\n",
       "    <tr>\n",
       "      <th>max</th>\n",
       "      <td>10713.000000</td>\n",
       "      <td>2022-12-12 00:00:00</td>\n",
       "      <td>29.050000</td>\n",
       "      <td>754.430000</td>\n",
       "      <td>16074.435000</td>\n",
       "    </tr>\n",
       "    <tr>\n",
       "      <th>std</th>\n",
       "      <td>75.889181</td>\n",
       "      <td>NaN</td>\n",
       "      <td>4.341855</td>\n",
       "      <td>214.888699</td>\n",
       "      <td>2420.118378</td>\n",
       "    </tr>\n",
       "  </tbody>\n",
       "</table>\n",
       "</div>"
      ],
      "text/plain": [
       "           Order ID                           Date       Price    Quantity  \\\n",
       "count    254.000000                             83  254.000000  254.000000   \n",
       "mean   10584.133858  2022-07-30 18:47:42.650602496    7.102323  460.611457   \n",
       "min    10452.000000            2022-01-12 00:00:00    2.950000  200.400000   \n",
       "25%    10520.250000            2022-05-12 00:00:00    3.490000  201.010000   \n",
       "50%    10583.500000            2022-08-12 00:00:00    4.990000  538.880000   \n",
       "75%    10649.750000            2022-10-12 00:00:00    9.950000  677.440000   \n",
       "max    10713.000000            2022-12-12 00:00:00   29.050000  754.430000   \n",
       "std       75.889181                            NaN    4.341855  214.888699   \n",
       "\n",
       "        Total Sales  \n",
       "count    254.000000  \n",
       "mean    3029.589997  \n",
       "min      999.996000  \n",
       "25%     2000.011500  \n",
       "50%     2100.020400  \n",
       "75%     2400.003200  \n",
       "max    16074.435000  \n",
       "std     2420.118378  "
      ]
     },
     "execution_count": 26,
     "metadata": {},
     "output_type": "execute_result"
    }
   ],
   "source": [
    "# Summary statistics\n",
    "data.describe()"
   ]
  },
  {
   "cell_type": "code",
   "execution_count": 27,
   "id": "dd383dd5-dd58-4f27-a1e0-a048a1054b08",
   "metadata": {},
   "outputs": [
    {
     "data": {
      "text/html": [
       "<div>\n",
       "<style scoped>\n",
       "    .dataframe tbody tr th:only-of-type {\n",
       "        vertical-align: middle;\n",
       "    }\n",
       "\n",
       "    .dataframe tbody tr th {\n",
       "        vertical-align: top;\n",
       "    }\n",
       "\n",
       "    .dataframe thead th {\n",
       "        text-align: right;\n",
       "    }\n",
       "</style>\n",
       "<table border=\"1\" class=\"dataframe\">\n",
       "  <thead>\n",
       "    <tr style=\"text-align: right;\">\n",
       "      <th></th>\n",
       "      <th>Order ID</th>\n",
       "      <th>Date</th>\n",
       "      <th>Product</th>\n",
       "      <th>Price</th>\n",
       "      <th>Quantity</th>\n",
       "      <th>Purchase Type</th>\n",
       "      <th>Payment Method</th>\n",
       "      <th>Manager</th>\n",
       "      <th>City</th>\n",
       "      <th>Total Sales</th>\n",
       "    </tr>\n",
       "  </thead>\n",
       "  <tbody>\n",
       "  </tbody>\n",
       "</table>\n",
       "</div>"
      ],
      "text/plain": [
       "Empty DataFrame\n",
       "Columns: [Order ID, Date, Product, Price, Quantity, Purchase Type, Payment Method, Manager, City, Total Sales]\n",
       "Index: []"
      ]
     },
     "execution_count": 27,
     "metadata": {},
     "output_type": "execute_result"
    }
   ],
   "source": [
    "data[data.duplicated()]                      # To show all the duplicate records"
   ]
  },
  {
   "cell_type": "code",
   "execution_count": 28,
   "id": "5fa9ae66-a628-435b-99c7-b36f92a8e5a9",
   "metadata": {},
   "outputs": [
    {
     "data": {
      "text/html": [
       "<div>\n",
       "<style scoped>\n",
       "    .dataframe tbody tr th:only-of-type {\n",
       "        vertical-align: middle;\n",
       "    }\n",
       "\n",
       "    .dataframe tbody tr th {\n",
       "        vertical-align: top;\n",
       "    }\n",
       "\n",
       "    .dataframe thead th {\n",
       "        text-align: right;\n",
       "    }\n",
       "</style>\n",
       "<table border=\"1\" class=\"dataframe\">\n",
       "  <thead>\n",
       "    <tr style=\"text-align: right;\">\n",
       "      <th></th>\n",
       "      <th>Order ID</th>\n",
       "      <th>Date</th>\n",
       "      <th>Product</th>\n",
       "      <th>Price</th>\n",
       "      <th>Quantity</th>\n",
       "      <th>Purchase Type</th>\n",
       "      <th>Payment Method</th>\n",
       "      <th>Manager</th>\n",
       "      <th>City</th>\n",
       "      <th>Total Sales</th>\n",
       "    </tr>\n",
       "  </thead>\n",
       "  <tbody>\n",
       "  </tbody>\n",
       "</table>\n",
       "</div>"
      ],
      "text/plain": [
       "Empty DataFrame\n",
       "Columns: [Order ID, Date, Product, Price, Quantity, Purchase Type, Payment Method, Manager, City, Total Sales]\n",
       "Index: []"
      ]
     },
     "execution_count": 28,
     "metadata": {},
     "output_type": "execute_result"
    }
   ],
   "source": [
    "data[data['Order ID'].duplicated()]        # to check the duplicate records in a column"
   ]
  },
  {
   "cell_type": "code",
   "execution_count": 29,
   "id": "01489e17-04ef-4e20-a9ce-98854ff2b942",
   "metadata": {},
   "outputs": [
    {
     "data": {
      "text/html": [
       "<div>\n",
       "<style scoped>\n",
       "    .dataframe tbody tr th:only-of-type {\n",
       "        vertical-align: middle;\n",
       "    }\n",
       "\n",
       "    .dataframe tbody tr th {\n",
       "        vertical-align: top;\n",
       "    }\n",
       "\n",
       "    .dataframe thead th {\n",
       "        text-align: right;\n",
       "    }\n",
       "</style>\n",
       "<table border=\"1\" class=\"dataframe\">\n",
       "  <thead>\n",
       "    <tr style=\"text-align: right;\">\n",
       "      <th></th>\n",
       "      <th>Order ID</th>\n",
       "      <th>Date</th>\n",
       "      <th>Product</th>\n",
       "      <th>Price</th>\n",
       "      <th>Quantity</th>\n",
       "      <th>Purchase Type</th>\n",
       "      <th>Payment Method</th>\n",
       "      <th>Manager</th>\n",
       "      <th>City</th>\n",
       "      <th>Total Sales</th>\n",
       "    </tr>\n",
       "  </thead>\n",
       "  <tbody>\n",
       "    <tr>\n",
       "      <th>60</th>\n",
       "      <td>10483</td>\n",
       "      <td>NaT</td>\n",
       "      <td>Beverages</td>\n",
       "      <td>2.95</td>\n",
       "      <td>677.97</td>\n",
       "      <td>In-store</td>\n",
       "      <td>Credit Card</td>\n",
       "      <td>Joao Silva</td>\n",
       "      <td>Lisbon</td>\n",
       "      <td>2000.0115</td>\n",
       "    </tr>\n",
       "  </tbody>\n",
       "</table>\n",
       "</div>"
      ],
      "text/plain": [
       "    Order ID Date    Product  Price  Quantity Purchase Type Payment Method  \\\n",
       "60     10483  NaT  Beverages   2.95    677.97     In-store     Credit Card   \n",
       "\n",
       "       Manager    City  Total Sales  \n",
       "60  Joao Silva  Lisbon    2000.0115  "
      ]
     },
     "execution_count": 29,
     "metadata": {},
     "output_type": "execute_result"
    }
   ],
   "source": [
    "data[data['Order ID'] == 10483]            # using filtering to show some records"
   ]
  },
  {
   "cell_type": "code",
   "execution_count": 30,
   "id": "8f559112-528c-489c-a6f2-aa15f0a3adac",
   "metadata": {},
   "outputs": [],
   "source": [
    "### Q1️. What is the most preferred Payment Method?"
   ]
  },
  {
   "cell_type": "code",
   "execution_count": 31,
   "id": "5d621a9e-448b-421d-a791-1452b78593be",
   "metadata": {},
   "outputs": [
    {
     "data": {
      "image/png": "[encoded data removed]",
      "text/plain": [
       "<Figure size 600x600 with 1 Axes>"
      ]
     },
     "metadata": {},
     "output_type": "display_data"
    }
   ],
   "source": [
    "payment_sales = data.groupby('Payment Method')['Total Sales'].sum()\n",
    "payment_sales.plot(kind='pie', figsize=(6,6))\n",
    "plt.title(\"Most Preferred Payment Method\")\n",
    "plt.ylabel(\"\")\n",
    "plt.show()"
   ]
  },
  {
   "cell_type": "code",
   "execution_count": 32,
   "id": "48626666-a73d-447c-b0ab-c84251137ed6",
   "metadata": {},
   "outputs": [],
   "source": [
    "### Q2. Which Product Sells the Most?\n",
    "# By Quantity Sold & By Revenue Generated"
   ]
  },
  {
   "cell_type": "code",
   "execution_count": 33,
   "id": "f9fe9449-2a17-4647-8439-4a9057ffb65e",
   "metadata": {},
   "outputs": [
    {
     "data": {
      "text/plain": [
       "Product\n",
       "Beverages             34983.14\n",
       "Burgers               29022.31\n",
       "Chicken Sandwiches    11135.92\n",
       "Fries                 32034.34\n",
       "Sides & Other          9819.60\n",
       "Name: Quantity, dtype: float64"
      ]
     },
     "execution_count": 33,
     "metadata": {},
     "output_type": "execute_result"
    }
   ],
   "source": [
    "# By Quantity\n",
    "data.groupby('Product')['Quantity'].sum()               # To make the group of unique values of a column"
   ]
  },
  {
   "cell_type": "code",
   "execution_count": 34,
   "id": "7a17536c-e1d9-4ab4-9052-1cbc210d078d",
   "metadata": {},
   "outputs": [
    {
     "data": {
      "text/plain": [
       "Product\n",
       "Beverages             34983.14\n",
       "Fries                 32034.34\n",
       "Burgers               29022.31\n",
       "Chicken Sandwiches    11135.92\n",
       "Sides & Other          9819.60\n",
       "Name: Quantity, dtype: float64"
      ]
     },
     "execution_count": 34,
     "metadata": {},
     "output_type": "execute_result"
    }
   ],
   "source": [
    "data.groupby('Product')['Quantity'].sum().sort_values(ascending=False)       # To sort the result"
   ]
  },
  {
   "cell_type": "code",
   "execution_count": 35,
   "id": "574ae921-80aa-466b-9713-e8211e500c88",
   "metadata": {},
   "outputs": [
    {
     "data": {
      "text/plain": [
       "Product\n",
       "Beverages             34983.14\n",
       "Fries                 32034.34\n",
       "Burgers               29022.31\n",
       "Chicken Sandwiches    11135.92\n",
       "Sides & Other          9819.60\n",
       "Name: Quantity, dtype: float64"
      ]
     },
     "execution_count": 35,
     "metadata": {},
     "output_type": "execute_result"
    }
   ],
   "source": [
    "most_quantity = data.groupby('Product')['Quantity'].sum().sort_values(ascending=False)\n",
    "most_quantity"
   ]
  },
  {
   "cell_type": "code",
   "execution_count": 36,
   "id": "62c17909-e18e-4a63-8dfe-94603a2e2a7e",
   "metadata": {},
   "outputs": [
    {
     "data": {
      "text/plain": [
       "pandas.core.series.Series"
      ]
     },
     "execution_count": 36,
     "metadata": {},
     "output_type": "execute_result"
    }
   ],
   "source": [
    "type(most_quantity)                   # to the type of the variable"
   ]
  },
  {
   "cell_type": "code",
   "execution_count": 37,
   "id": "8018a6c0-9000-4a78-b669-c26166fae356",
   "metadata": {},
   "outputs": [
    {
     "data": {
      "text/html": [
       "<div>\n",
       "<style scoped>\n",
       "    .dataframe tbody tr th:only-of-type {\n",
       "        vertical-align: middle;\n",
       "    }\n",
       "\n",
       "    .dataframe tbody tr th {\n",
       "        vertical-align: top;\n",
       "    }\n",
       "\n",
       "    .dataframe thead th {\n",
       "        text-align: right;\n",
       "    }\n",
       "</style>\n",
       "<table border=\"1\" class=\"dataframe\">\n",
       "  <thead>\n",
       "    <tr style=\"text-align: right;\">\n",
       "      <th></th>\n",
       "      <th>Product</th>\n",
       "      <th>Quantity</th>\n",
       "    </tr>\n",
       "  </thead>\n",
       "  <tbody>\n",
       "    <tr>\n",
       "      <th>0</th>\n",
       "      <td>Beverages</td>\n",
       "      <td>34983.14</td>\n",
       "    </tr>\n",
       "    <tr>\n",
       "      <th>1</th>\n",
       "      <td>Fries</td>\n",
       "      <td>32034.34</td>\n",
       "    </tr>\n",
       "    <tr>\n",
       "      <th>2</th>\n",
       "      <td>Burgers</td>\n",
       "      <td>29022.31</td>\n",
       "    </tr>\n",
       "    <tr>\n",
       "      <th>3</th>\n",
       "      <td>Chicken Sandwiches</td>\n",
       "      <td>11135.92</td>\n",
       "    </tr>\n",
       "    <tr>\n",
       "      <th>4</th>\n",
       "      <td>Sides &amp; Other</td>\n",
       "      <td>9819.60</td>\n",
       "    </tr>\n",
       "  </tbody>\n",
       "</table>\n",
       "</div>"
      ],
      "text/plain": [
       "              Product  Quantity\n",
       "0           Beverages  34983.14\n",
       "1               Fries  32034.34\n",
       "2             Burgers  29022.31\n",
       "3  Chicken Sandwiches  11135.92\n",
       "4       Sides & Other   9819.60"
      ]
     },
     "execution_count": 37,
     "metadata": {},
     "output_type": "execute_result"
    }
   ],
   "source": [
    "most_quantity = most_quantity.reset_index()     # To convert the index of a Series into a column to form a DataFrame\n",
    "most_quantity"
   ]
  },
  {
   "cell_type": "code",
   "execution_count": 38,
   "id": "ec9459a4-13b0-44aa-9e79-43b35edb7c12",
   "metadata": {},
   "outputs": [
    {
     "data": {
      "image/png": "[encoded data removed]",
      "text/plain": [
       "<Figure size 900x400 with 1 Axes>"
      ]
     },
     "metadata": {},
     "output_type": "display_data"
    }
   ],
   "source": [
    "plt.figure(figsize = (9,4))\n",
    "plt.bar(most_quantity['Product'], most_quantity['Quantity'], color = ['red', 'black', 'green', 'yellow', 'cyan'], width=0.4)\n",
    "plt.title(\"Most Selling Product - By Quantity\")              \n",
    "plt.xlabel(\"Product\")\n",
    "plt.ylabel(\"Quantity\");"
   ]
  },
  {
   "cell_type": "code",
   "execution_count": 39,
   "id": "88cdb144-f698-4613-a1dd-f2d146d10a41",
   "metadata": {},
   "outputs": [],
   "source": [
    "#### By Revenue"
   ]
  },
  {
   "cell_type": "code",
   "execution_count": 40,
   "id": "4937c097-b233-49a4-b3e6-2aed88ebe708",
   "metadata": {},
   "outputs": [],
   "source": [
    "data['Revenue'] = data['Price'] * data['Quantity']       # to create a new column 'Revenue'"
   ]
  },
  {
   "cell_type": "code",
   "execution_count": 41,
   "id": "3a7875ba-be33-4c9b-ae4a-ece7ae1f89bb",
   "metadata": {},
   "outputs": [
    {
     "data": {
      "text/html": [
       "<div>\n",
       "<style scoped>\n",
       "    .dataframe tbody tr th:only-of-type {\n",
       "        vertical-align: middle;\n",
       "    }\n",
       "\n",
       "    .dataframe tbody tr th {\n",
       "        vertical-align: top;\n",
       "    }\n",
       "\n",
       "    .dataframe thead th {\n",
       "        text-align: right;\n",
       "    }\n",
       "</style>\n",
       "<table border=\"1\" class=\"dataframe\">\n",
       "  <thead>\n",
       "    <tr style=\"text-align: right;\">\n",
       "      <th></th>\n",
       "      <th>Order ID</th>\n",
       "      <th>Date</th>\n",
       "      <th>Product</th>\n",
       "      <th>Price</th>\n",
       "      <th>Quantity</th>\n",
       "      <th>Purchase Type</th>\n",
       "      <th>Payment Method</th>\n",
       "      <th>Manager</th>\n",
       "      <th>City</th>\n",
       "      <th>Total Sales</th>\n",
       "      <th>Revenue</th>\n",
       "    </tr>\n",
       "  </thead>\n",
       "  <tbody>\n",
       "    <tr>\n",
       "      <th>0</th>\n",
       "      <td>10452</td>\n",
       "      <td>2022-07-11</td>\n",
       "      <td>Fries</td>\n",
       "      <td>3.49</td>\n",
       "      <td>573.07</td>\n",
       "      <td>Online</td>\n",
       "      <td>Gift Card</td>\n",
       "      <td>Tom Jackson</td>\n",
       "      <td>London</td>\n",
       "      <td>2000.0143</td>\n",
       "      <td>2000.0143</td>\n",
       "    </tr>\n",
       "    <tr>\n",
       "      <th>1</th>\n",
       "      <td>10453</td>\n",
       "      <td>2022-07-11</td>\n",
       "      <td>Beverages</td>\n",
       "      <td>2.95</td>\n",
       "      <td>745.76</td>\n",
       "      <td>Online</td>\n",
       "      <td>Gift Card</td>\n",
       "      <td>Pablo Perez</td>\n",
       "      <td>Madrid</td>\n",
       "      <td>2199.9920</td>\n",
       "      <td>2199.9920</td>\n",
       "    </tr>\n",
       "    <tr>\n",
       "      <th>2</th>\n",
       "      <td>10454</td>\n",
       "      <td>2022-07-11</td>\n",
       "      <td>Sides &amp; Other</td>\n",
       "      <td>4.99</td>\n",
       "      <td>200.40</td>\n",
       "      <td>In-store</td>\n",
       "      <td>Gift Card</td>\n",
       "      <td>Joao Silva</td>\n",
       "      <td>Lisbon</td>\n",
       "      <td>999.9960</td>\n",
       "      <td>999.9960</td>\n",
       "    </tr>\n",
       "    <tr>\n",
       "      <th>3</th>\n",
       "      <td>10455</td>\n",
       "      <td>2022-08-11</td>\n",
       "      <td>Burgers</td>\n",
       "      <td>12.99</td>\n",
       "      <td>569.67</td>\n",
       "      <td>In-store</td>\n",
       "      <td>Credit Card</td>\n",
       "      <td>Walter Muller</td>\n",
       "      <td>Berlin</td>\n",
       "      <td>7400.0133</td>\n",
       "      <td>7400.0133</td>\n",
       "    </tr>\n",
       "    <tr>\n",
       "      <th>4</th>\n",
       "      <td>10456</td>\n",
       "      <td>2022-08-11</td>\n",
       "      <td>Chicken Sandwiches</td>\n",
       "      <td>9.95</td>\n",
       "      <td>201.01</td>\n",
       "      <td>In-store</td>\n",
       "      <td>Credit Card</td>\n",
       "      <td>Walter Muller</td>\n",
       "      <td>Berlin</td>\n",
       "      <td>2000.0495</td>\n",
       "      <td>2000.0495</td>\n",
       "    </tr>\n",
       "  </tbody>\n",
       "</table>\n",
       "</div>"
      ],
      "text/plain": [
       "   Order ID       Date             Product  Price  Quantity Purchase Type  \\\n",
       "0     10452 2022-07-11               Fries   3.49    573.07       Online    \n",
       "1     10453 2022-07-11           Beverages   2.95    745.76       Online    \n",
       "2     10454 2022-07-11       Sides & Other   4.99    200.40     In-store    \n",
       "3     10455 2022-08-11             Burgers  12.99    569.67     In-store    \n",
       "4     10456 2022-08-11  Chicken Sandwiches   9.95    201.01     In-store    \n",
       "\n",
       "  Payment Method        Manager    City  Total Sales    Revenue  \n",
       "0      Gift Card    Tom Jackson  London    2000.0143  2000.0143  \n",
       "1      Gift Card    Pablo Perez  Madrid    2199.9920  2199.9920  \n",
       "2      Gift Card     Joao Silva  Lisbon     999.9960   999.9960  \n",
       "3    Credit Card  Walter Muller  Berlin    7400.0133  7400.0133  \n",
       "4    Credit Card  Walter Muller  Berlin    2000.0495  2000.0495  "
      ]
     },
     "execution_count": 41,
     "metadata": {},
     "output_type": "execute_result"
    }
   ],
   "source": [
    "data.head()                    #To check the Revenue"
   ]
  },
  {
   "cell_type": "code",
   "execution_count": 42,
   "id": "6d34d67d-387c-457c-9587-6df48935c466",
   "metadata": {},
   "outputs": [
    {
     "data": {
      "text/plain": [
       "Product\n",
       "Burgers               376999.8069\n",
       "Fries                 125674.2903\n",
       "Chicken Sandwiches    114641.6950\n",
       "Beverages             103200.2630\n",
       "Sides & Other          48999.8040\n",
       "Name: Revenue, dtype: float64"
      ]
     },
     "execution_count": 42,
     "metadata": {},
     "output_type": "execute_result"
    }
   ],
   "source": [
    "data.groupby('Product')['Revenue'].sum().sort_values(ascending = False)    # to make the group of unique values of a column"
   ]
  },
  {
   "cell_type": "code",
   "execution_count": 43,
   "id": "6f1140ef-7540-4e2c-bf97-74d0409e610a",
   "metadata": {},
   "outputs": [
    {
     "data": {
      "text/plain": [
       "Product\n",
       "Burgers               376999.8069\n",
       "Fries                 125674.2903\n",
       "Chicken Sandwiches    114641.6950\n",
       "Beverages             103200.2630\n",
       "Sides & Other          48999.8040\n",
       "Name: Revenue, dtype: float64"
      ]
     },
     "execution_count": 43,
     "metadata": {},
     "output_type": "execute_result"
    }
   ],
   "source": [
    "most_revenue = data.groupby('Product')['Revenue'].sum().sort_values(ascending = False)\n",
    "most_revenue"
   ]
  },
  {
   "cell_type": "code",
   "execution_count": 44,
   "id": "04657b7e-be00-488d-a2ba-685b75d331c6",
   "metadata": {},
   "outputs": [
    {
     "data": {
      "text/html": [
       "<div>\n",
       "<style scoped>\n",
       "    .dataframe tbody tr th:only-of-type {\n",
       "        vertical-align: middle;\n",
       "    }\n",
       "\n",
       "    .dataframe tbody tr th {\n",
       "        vertical-align: top;\n",
       "    }\n",
       "\n",
       "    .dataframe thead th {\n",
       "        text-align: right;\n",
       "    }\n",
       "</style>\n",
       "<table border=\"1\" class=\"dataframe\">\n",
       "  <thead>\n",
       "    <tr style=\"text-align: right;\">\n",
       "      <th></th>\n",
       "      <th>Product</th>\n",
       "      <th>Revenue</th>\n",
       "    </tr>\n",
       "  </thead>\n",
       "  <tbody>\n",
       "    <tr>\n",
       "      <th>0</th>\n",
       "      <td>Burgers</td>\n",
       "      <td>376999.8069</td>\n",
       "    </tr>\n",
       "    <tr>\n",
       "      <th>1</th>\n",
       "      <td>Fries</td>\n",
       "      <td>125674.2903</td>\n",
       "    </tr>\n",
       "    <tr>\n",
       "      <th>2</th>\n",
       "      <td>Chicken Sandwiches</td>\n",
       "      <td>114641.6950</td>\n",
       "    </tr>\n",
       "    <tr>\n",
       "      <th>3</th>\n",
       "      <td>Beverages</td>\n",
       "      <td>103200.2630</td>\n",
       "    </tr>\n",
       "    <tr>\n",
       "      <th>4</th>\n",
       "      <td>Sides &amp; Other</td>\n",
       "      <td>48999.8040</td>\n",
       "    </tr>\n",
       "  </tbody>\n",
       "</table>\n",
       "</div>"
      ],
      "text/plain": [
       "              Product      Revenue\n",
       "0             Burgers  376999.8069\n",
       "1               Fries  125674.2903\n",
       "2  Chicken Sandwiches  114641.6950\n",
       "3           Beverages  103200.2630\n",
       "4       Sides & Other   48999.8040"
      ]
     },
     "execution_count": 44,
     "metadata": {},
     "output_type": "execute_result"
    }
   ],
   "source": [
    "most_revenue = most_revenue.reset_index()         # To convert the index of a Series into a column to form a DataFrame\n",
    "most_revenue"
   ]
  },
  {
   "cell_type": "code",
   "execution_count": 45,
   "id": "196fc450-97e3-4763-9eb8-26aa38a1fa80",
   "metadata": {},
   "outputs": [
    {
     "data": {
      "image/png": "[encoded data removed]",
      "text/plain": [
       "<Figure size 900x400 with 1 Axes>"
      ]
     },
     "metadata": {},
     "output_type": "display_data"
    }
   ],
   "source": [
    "plt.figure(figsize=(9, 4))\n",
    "plt.bar(most_revenue['Product'], most_revenue['Revenue'], color = ['green', 'red', 'black', 'yellow', 'cyan'], width = 0.3);\n",
    "plt.title(\"Most Selling Product - By Revenue\")       # setting the title       \n",
    "plt.xlabel(\"Product\")                                # setting the x-axis label\n",
    "plt.ylabel(\"Revenue\");                               # setting the y-axis label"
   ]
  },
  {
   "cell_type": "code",
   "execution_count": 46,
   "id": "501a8db1-9b4f-4984-866d-619eb3086be0",
   "metadata": {},
   "outputs": [],
   "source": [
    "### Q3. Which Manager or City Generated the Maximum Revenue?"
   ]
  },
  {
   "cell_type": "code",
   "execution_count": 47,
   "id": "242d3c88-257e-48f6-9c72-034f004ad31d",
   "metadata": {},
   "outputs": [
    {
     "data": {
      "text/html": [
       "<div>\n",
       "<style scoped>\n",
       "    .dataframe tbody tr th:only-of-type {\n",
       "        vertical-align: middle;\n",
       "    }\n",
       "\n",
       "    .dataframe tbody tr th {\n",
       "        vertical-align: top;\n",
       "    }\n",
       "\n",
       "    .dataframe thead th {\n",
       "        text-align: right;\n",
       "    }\n",
       "</style>\n",
       "<table border=\"1\" class=\"dataframe\">\n",
       "  <thead>\n",
       "    <tr style=\"text-align: right;\">\n",
       "      <th></th>\n",
       "      <th>Order ID</th>\n",
       "      <th>Date</th>\n",
       "      <th>Product</th>\n",
       "      <th>Price</th>\n",
       "      <th>Quantity</th>\n",
       "      <th>Purchase Type</th>\n",
       "      <th>Payment Method</th>\n",
       "      <th>Manager</th>\n",
       "      <th>City</th>\n",
       "      <th>Total Sales</th>\n",
       "      <th>Revenue</th>\n",
       "    </tr>\n",
       "  </thead>\n",
       "  <tbody>\n",
       "    <tr>\n",
       "      <th>0</th>\n",
       "      <td>10452</td>\n",
       "      <td>2022-07-11</td>\n",
       "      <td>Fries</td>\n",
       "      <td>3.49</td>\n",
       "      <td>573.07</td>\n",
       "      <td>Online</td>\n",
       "      <td>Gift Card</td>\n",
       "      <td>Tom Jackson</td>\n",
       "      <td>London</td>\n",
       "      <td>2000.0143</td>\n",
       "      <td>2000.0143</td>\n",
       "    </tr>\n",
       "    <tr>\n",
       "      <th>1</th>\n",
       "      <td>10453</td>\n",
       "      <td>2022-07-11</td>\n",
       "      <td>Beverages</td>\n",
       "      <td>2.95</td>\n",
       "      <td>745.76</td>\n",
       "      <td>Online</td>\n",
       "      <td>Gift Card</td>\n",
       "      <td>Pablo Perez</td>\n",
       "      <td>Madrid</td>\n",
       "      <td>2199.9920</td>\n",
       "      <td>2199.9920</td>\n",
       "    </tr>\n",
       "  </tbody>\n",
       "</table>\n",
       "</div>"
      ],
      "text/plain": [
       "   Order ID       Date    Product  Price  Quantity Purchase Type  \\\n",
       "0     10452 2022-07-11      Fries   3.49    573.07       Online    \n",
       "1     10453 2022-07-11  Beverages   2.95    745.76       Online    \n",
       "\n",
       "  Payment Method      Manager    City  Total Sales    Revenue  \n",
       "0      Gift Card  Tom Jackson  London    2000.0143  2000.0143  \n",
       "1      Gift Card  Pablo Perez  Madrid    2199.9920  2199.9920  "
      ]
     },
     "execution_count": 47,
     "metadata": {},
     "output_type": "execute_result"
    }
   ],
   "source": [
    "data.head(2)"
   ]
  },
  {
   "cell_type": "code",
   "execution_count": 48,
   "id": "5861cf87-7c1b-445b-b7e8-f3c83e0f7c3d",
   "metadata": {},
   "outputs": [
    {
     "data": {
      "text/plain": [
       "array(['London', 'Madrid', 'Lisbon', 'Berlin', 'Paris'], dtype=object)"
      ]
     },
     "execution_count": 48,
     "metadata": {},
     "output_type": "execute_result"
    }
   ],
   "source": [
    "data.City.unique()                       # To check the unique values of the column 'City'"
   ]
  },
  {
   "cell_type": "code",
   "execution_count": 49,
   "id": "7df37cfd-9203-46d2-a839-9ce4bb992e54",
   "metadata": {},
   "outputs": [
    {
     "data": {
      "text/plain": [
       "5"
      ]
     },
     "execution_count": 49,
     "metadata": {},
     "output_type": "execute_result"
    }
   ],
   "source": [
    "data.City.nunique()                      # To check the count of unique values of the column 'City'"
   ]
  },
  {
   "cell_type": "code",
   "execution_count": 50,
   "id": "b4cfeaca-33d1-4b0f-8812-898dbac9ac9f",
   "metadata": {},
   "outputs": [
    {
     "data": {
      "text/plain": [
       "City\n",
       "Lisbon    241714.1157\n",
       "London    211201.0406\n",
       "Madrid    136200.2665\n",
       "Berlin    100600.1313\n",
       "Paris      79800.3051\n",
       "Name: Revenue, dtype: float64"
      ]
     },
     "execution_count": 50,
     "metadata": {},
     "output_type": "execute_result"
    }
   ],
   "source": [
    "data.groupby('City')['Revenue'].sum().sort_values(ascending=False)       # using groupby on 'City' & 'Revenue' column"
   ]
  },
  {
   "cell_type": "code",
   "execution_count": 51,
   "id": "3506be9b-a917-4bea-981a-fa6f9ef4ee91",
   "metadata": {},
   "outputs": [
    {
     "data": {
      "text/plain": [
       "5"
      ]
     },
     "execution_count": 51,
     "metadata": {},
     "output_type": "execute_result"
    }
   ],
   "source": [
    "data.Manager.nunique()                   # To check the count of unique values of the column 'Manager'"
   ]
  },
  {
   "cell_type": "code",
   "execution_count": 52,
   "id": "e1619605-0036-4716-81f9-a34b1b60ef52",
   "metadata": {},
   "outputs": [
    {
     "data": {
      "text/plain": [
       "array(['Tom Jackson', 'Pablo Perez', 'Joao Silva', 'Walter Muller',\n",
       "       'Remy Monet'], dtype=object)"
      ]
     },
     "execution_count": 52,
     "metadata": {},
     "output_type": "execute_result"
    }
   ],
   "source": [
    "data.Manager.unique()                   # To check the unique values of the column 'Manager'"
   ]
  },
  {
   "cell_type": "code",
   "execution_count": 53,
   "id": "31baebf5-22fb-4402-bad2-2438aad77979",
   "metadata": {},
   "outputs": [
    {
     "data": {
      "text/plain": [
       "Manager\n",
       "Joao Silva       241714.1157\n",
       "Tom Jackson      211201.0406\n",
       "Pablo Perez      136200.2665\n",
       "Walter Muller    100600.1313\n",
       "Remy Monet        79800.3051\n",
       "Name: Revenue, dtype: float64"
      ]
     },
     "execution_count": 53,
     "metadata": {},
     "output_type": "execute_result"
    }
   ],
   "source": [
    "data.groupby('Manager')['Revenue'].sum().sort_values(ascending=False)   # Using groupby on 'Manager' & 'Revenue' column"
   ]
  },
  {
   "cell_type": "code",
   "execution_count": 54,
   "id": "67f1b563-6d72-41d6-897f-cff6038b3e45",
   "metadata": {},
   "outputs": [],
   "source": [
    "### Q4️. How Does Revenue Change Over Time?"
   ]
  },
  {
   "cell_type": "code",
   "execution_count": 55,
   "id": "f91a9dd6-518a-4bb3-9da0-b44003b2b41c",
   "metadata": {},
   "outputs": [
    {
     "data": {
      "text/html": [
       "<div>\n",
       "<style scoped>\n",
       "    .dataframe tbody tr th:only-of-type {\n",
       "        vertical-align: middle;\n",
       "    }\n",
       "\n",
       "    .dataframe tbody tr th {\n",
       "        vertical-align: top;\n",
       "    }\n",
       "\n",
       "    .dataframe thead th {\n",
       "        text-align: right;\n",
       "    }\n",
       "</style>\n",
       "<table border=\"1\" class=\"dataframe\">\n",
       "  <thead>\n",
       "    <tr style=\"text-align: right;\">\n",
       "      <th></th>\n",
       "      <th>Order ID</th>\n",
       "      <th>Date</th>\n",
       "      <th>Product</th>\n",
       "      <th>Price</th>\n",
       "      <th>Quantity</th>\n",
       "      <th>Purchase Type</th>\n",
       "      <th>Payment Method</th>\n",
       "      <th>Manager</th>\n",
       "      <th>City</th>\n",
       "      <th>Total Sales</th>\n",
       "      <th>Revenue</th>\n",
       "    </tr>\n",
       "  </thead>\n",
       "  <tbody>\n",
       "    <tr>\n",
       "      <th>0</th>\n",
       "      <td>10452</td>\n",
       "      <td>2022-07-11</td>\n",
       "      <td>Fries</td>\n",
       "      <td>3.49</td>\n",
       "      <td>573.07</td>\n",
       "      <td>Online</td>\n",
       "      <td>Gift Card</td>\n",
       "      <td>Tom Jackson</td>\n",
       "      <td>London</td>\n",
       "      <td>2000.0143</td>\n",
       "      <td>2000.0143</td>\n",
       "    </tr>\n",
       "    <tr>\n",
       "      <th>1</th>\n",
       "      <td>10453</td>\n",
       "      <td>2022-07-11</td>\n",
       "      <td>Beverages</td>\n",
       "      <td>2.95</td>\n",
       "      <td>745.76</td>\n",
       "      <td>Online</td>\n",
       "      <td>Gift Card</td>\n",
       "      <td>Pablo Perez</td>\n",
       "      <td>Madrid</td>\n",
       "      <td>2199.9920</td>\n",
       "      <td>2199.9920</td>\n",
       "    </tr>\n",
       "  </tbody>\n",
       "</table>\n",
       "</div>"
      ],
      "text/plain": [
       "   Order ID       Date    Product  Price  Quantity Purchase Type  \\\n",
       "0     10452 2022-07-11      Fries   3.49    573.07       Online    \n",
       "1     10453 2022-07-11  Beverages   2.95    745.76       Online    \n",
       "\n",
       "  Payment Method      Manager    City  Total Sales    Revenue  \n",
       "0      Gift Card  Tom Jackson  London    2000.0143  2000.0143  \n",
       "1      Gift Card  Pablo Perez  Madrid    2199.9920  2199.9920  "
      ]
     },
     "execution_count": 55,
     "metadata": {},
     "output_type": "execute_result"
    }
   ],
   "source": [
    "data.head(2)"
   ]
  },
  {
   "cell_type": "code",
   "execution_count": 56,
   "id": "351e4de5-8d12-40ed-97d7-5dec8ba270f8",
   "metadata": {},
   "outputs": [
    {
     "data": {
      "text/plain": [
       "dtype('<M8[ns]')"
      ]
     },
     "execution_count": 56,
     "metadata": {},
     "output_type": "execute_result"
    }
   ],
   "source": [
    "data.Date.dtype"
   ]
  },
  {
   "cell_type": "code",
   "execution_count": 57,
   "id": "64072622-f876-4e1a-8b97-bf00bccdef59",
   "metadata": {},
   "outputs": [
    {
     "name": "stdout",
     "output_type": "stream",
     "text": [
      "<class 'pandas.core.frame.DataFrame'>\n",
      "RangeIndex: 254 entries, 0 to 253\n",
      "Data columns (total 11 columns):\n",
      " #   Column          Non-Null Count  Dtype         \n",
      "---  ------          --------------  -----         \n",
      " 0   Order ID        254 non-null    int64         \n",
      " 1   Date            83 non-null     datetime64[ns]\n",
      " 2   Product         254 non-null    object        \n",
      " 3   Price           254 non-null    float64       \n",
      " 4   Quantity        254 non-null    float64       \n",
      " 5   Purchase Type   254 non-null    object        \n",
      " 6   Payment Method  254 non-null    object        \n",
      " 7   Manager         254 non-null    object        \n",
      " 8   City            254 non-null    object        \n",
      " 9   Total Sales     254 non-null    float64       \n",
      " 10  Revenue         254 non-null    float64       \n",
      "dtypes: datetime64[ns](1), float64(4), int64(1), object(5)\n",
      "memory usage: 22.0+ KB\n"
     ]
    }
   ],
   "source": [
    "data.info()"
   ]
  },
  {
   "cell_type": "code",
   "execution_count": 58,
   "id": "07757bf6-d40f-4f32-8be1-1987f4f79096",
   "metadata": {},
   "outputs": [
    {
     "data": {
      "image/png": "[encoded data removed]",
      "text/plain": [
       "<Figure size 900x400 with 1 Axes>"
      ]
     },
     "metadata": {},
     "output_type": "display_data"
    }
   ],
   "source": [
    "data.plot('Date', 'Revenue', color='red', linewidth=2, figsize=(9,4)) \n",
    "plt.title(\"Date wise Revenue\")                        # setting the title\n",
    "plt.xlabel(\"Date\")                                    # setting the x-axis label\n",
    "plt.ylabel(\"Revenue\")                                 # setting the y-axis label\n",
    "plt.show()"
   ]
  },
  {
   "cell_type": "code",
   "execution_count": 59,
   "id": "1bb88a12-5c59-464e-8ea2-221a03382d17",
   "metadata": {},
   "outputs": [],
   "source": [
    "### Q5️. What is the Overall Average Revenue?"
   ]
  },
  {
   "cell_type": "code",
   "execution_count": 60,
   "id": "e2d94d18-2ee1-4168-af5a-e2d4db7a8ea5",
   "metadata": {},
   "outputs": [
    {
     "data": {
      "text/plain": [
       "np.float64(3029.589996850394)"
      ]
     },
     "execution_count": 60,
     "metadata": {},
     "output_type": "execute_result"
    }
   ],
   "source": [
    "data['Revenue'].mean()"
   ]
  },
  {
   "cell_type": "code",
   "execution_count": 61,
   "id": "62ffbd33-0e3f-43ea-9fa0-16a1073b49e0",
   "metadata": {},
   "outputs": [],
   "source": [
    "### Q6. What is the Average Revenue for November & December?"
   ]
  },
  {
   "cell_type": "code",
   "execution_count": 62,
   "id": "facf6966-23a1-454b-83fe-e255bba56310",
   "metadata": {},
   "outputs": [],
   "source": [
    "data['Month'] = data['Date'].dt.month              # creating a new column showing Month only"
   ]
  },
  {
   "cell_type": "code",
   "execution_count": 63,
   "id": "8c3d3c99-6cfb-46e5-9b4b-bde82829f6a7",
   "metadata": {},
   "outputs": [
    {
     "data": {
      "text/html": [
       "<div>\n",
       "<style scoped>\n",
       "    .dataframe tbody tr th:only-of-type {\n",
       "        vertical-align: middle;\n",
       "    }\n",
       "\n",
       "    .dataframe tbody tr th {\n",
       "        vertical-align: top;\n",
       "    }\n",
       "\n",
       "    .dataframe thead th {\n",
       "        text-align: right;\n",
       "    }\n",
       "</style>\n",
       "<table border=\"1\" class=\"dataframe\">\n",
       "  <thead>\n",
       "    <tr style=\"text-align: right;\">\n",
       "      <th></th>\n",
       "      <th>Order ID</th>\n",
       "      <th>Date</th>\n",
       "      <th>Product</th>\n",
       "      <th>Price</th>\n",
       "      <th>Quantity</th>\n",
       "      <th>Purchase Type</th>\n",
       "      <th>Payment Method</th>\n",
       "      <th>Manager</th>\n",
       "      <th>City</th>\n",
       "      <th>Total Sales</th>\n",
       "      <th>Revenue</th>\n",
       "      <th>Month</th>\n",
       "    </tr>\n",
       "  </thead>\n",
       "  <tbody>\n",
       "    <tr>\n",
       "      <th>0</th>\n",
       "      <td>10452</td>\n",
       "      <td>2022-07-11</td>\n",
       "      <td>Fries</td>\n",
       "      <td>3.49</td>\n",
       "      <td>573.07</td>\n",
       "      <td>Online</td>\n",
       "      <td>Gift Card</td>\n",
       "      <td>Tom Jackson</td>\n",
       "      <td>London</td>\n",
       "      <td>2000.0143</td>\n",
       "      <td>2000.0143</td>\n",
       "      <td>7.0</td>\n",
       "    </tr>\n",
       "    <tr>\n",
       "      <th>1</th>\n",
       "      <td>10453</td>\n",
       "      <td>2022-07-11</td>\n",
       "      <td>Beverages</td>\n",
       "      <td>2.95</td>\n",
       "      <td>745.76</td>\n",
       "      <td>Online</td>\n",
       "      <td>Gift Card</td>\n",
       "      <td>Pablo Perez</td>\n",
       "      <td>Madrid</td>\n",
       "      <td>2199.9920</td>\n",
       "      <td>2199.9920</td>\n",
       "      <td>7.0</td>\n",
       "    </tr>\n",
       "    <tr>\n",
       "      <th>2</th>\n",
       "      <td>10454</td>\n",
       "      <td>2022-07-11</td>\n",
       "      <td>Sides &amp; Other</td>\n",
       "      <td>4.99</td>\n",
       "      <td>200.40</td>\n",
       "      <td>In-store</td>\n",
       "      <td>Gift Card</td>\n",
       "      <td>Joao Silva</td>\n",
       "      <td>Lisbon</td>\n",
       "      <td>999.9960</td>\n",
       "      <td>999.9960</td>\n",
       "      <td>7.0</td>\n",
       "    </tr>\n",
       "    <tr>\n",
       "      <th>3</th>\n",
       "      <td>10455</td>\n",
       "      <td>2022-08-11</td>\n",
       "      <td>Burgers</td>\n",
       "      <td>12.99</td>\n",
       "      <td>569.67</td>\n",
       "      <td>In-store</td>\n",
       "      <td>Credit Card</td>\n",
       "      <td>Walter Muller</td>\n",
       "      <td>Berlin</td>\n",
       "      <td>7400.0133</td>\n",
       "      <td>7400.0133</td>\n",
       "      <td>8.0</td>\n",
       "    </tr>\n",
       "    <tr>\n",
       "      <th>4</th>\n",
       "      <td>10456</td>\n",
       "      <td>2022-08-11</td>\n",
       "      <td>Chicken Sandwiches</td>\n",
       "      <td>9.95</td>\n",
       "      <td>201.01</td>\n",
       "      <td>In-store</td>\n",
       "      <td>Credit Card</td>\n",
       "      <td>Walter Muller</td>\n",
       "      <td>Berlin</td>\n",
       "      <td>2000.0495</td>\n",
       "      <td>2000.0495</td>\n",
       "      <td>8.0</td>\n",
       "    </tr>\n",
       "    <tr>\n",
       "      <th>...</th>\n",
       "      <td>...</td>\n",
       "      <td>...</td>\n",
       "      <td>...</td>\n",
       "      <td>...</td>\n",
       "      <td>...</td>\n",
       "      <td>...</td>\n",
       "      <td>...</td>\n",
       "      <td>...</td>\n",
       "      <td>...</td>\n",
       "      <td>...</td>\n",
       "      <td>...</td>\n",
       "      <td>...</td>\n",
       "    </tr>\n",
       "    <tr>\n",
       "      <th>249</th>\n",
       "      <td>10709</td>\n",
       "      <td>NaT</td>\n",
       "      <td>Sides &amp; Other</td>\n",
       "      <td>4.99</td>\n",
       "      <td>200.40</td>\n",
       "      <td>Drive-thru</td>\n",
       "      <td>Gift Card</td>\n",
       "      <td>Walter Muller</td>\n",
       "      <td>Berlin</td>\n",
       "      <td>999.9960</td>\n",
       "      <td>999.9960</td>\n",
       "      <td>NaN</td>\n",
       "    </tr>\n",
       "    <tr>\n",
       "      <th>250</th>\n",
       "      <td>10710</td>\n",
       "      <td>NaT</td>\n",
       "      <td>Burgers</td>\n",
       "      <td>12.99</td>\n",
       "      <td>754.43</td>\n",
       "      <td>Drive-thru</td>\n",
       "      <td>Gift Card</td>\n",
       "      <td>Walter Muller</td>\n",
       "      <td>Berlin</td>\n",
       "      <td>9800.0457</td>\n",
       "      <td>9800.0457</td>\n",
       "      <td>NaN</td>\n",
       "    </tr>\n",
       "    <tr>\n",
       "      <th>251</th>\n",
       "      <td>10711</td>\n",
       "      <td>NaT</td>\n",
       "      <td>Chicken Sandwiches</td>\n",
       "      <td>9.95</td>\n",
       "      <td>281.41</td>\n",
       "      <td>Drive-thru</td>\n",
       "      <td>Gift Card</td>\n",
       "      <td>Walter Muller</td>\n",
       "      <td>Berlin</td>\n",
       "      <td>2800.0295</td>\n",
       "      <td>2800.0295</td>\n",
       "      <td>NaN</td>\n",
       "    </tr>\n",
       "    <tr>\n",
       "      <th>252</th>\n",
       "      <td>10712</td>\n",
       "      <td>NaT</td>\n",
       "      <td>Fries</td>\n",
       "      <td>3.49</td>\n",
       "      <td>630.37</td>\n",
       "      <td>Drive-thru</td>\n",
       "      <td>Gift Card</td>\n",
       "      <td>Walter Muller</td>\n",
       "      <td>Berlin</td>\n",
       "      <td>2199.9913</td>\n",
       "      <td>2199.9913</td>\n",
       "      <td>NaN</td>\n",
       "    </tr>\n",
       "    <tr>\n",
       "      <th>253</th>\n",
       "      <td>10713</td>\n",
       "      <td>NaT</td>\n",
       "      <td>Beverages</td>\n",
       "      <td>2.95</td>\n",
       "      <td>677.97</td>\n",
       "      <td>Drive-thru</td>\n",
       "      <td>Gift Card</td>\n",
       "      <td>Walter Muller</td>\n",
       "      <td>Berlin</td>\n",
       "      <td>2000.0115</td>\n",
       "      <td>2000.0115</td>\n",
       "      <td>NaN</td>\n",
       "    </tr>\n",
       "  </tbody>\n",
       "</table>\n",
       "<p>254 rows × 12 columns</p>\n",
       "</div>"
      ],
      "text/plain": [
       "     Order ID       Date             Product  Price  Quantity Purchase Type  \\\n",
       "0       10452 2022-07-11               Fries   3.49    573.07       Online    \n",
       "1       10453 2022-07-11           Beverages   2.95    745.76       Online    \n",
       "2       10454 2022-07-11       Sides & Other   4.99    200.40     In-store    \n",
       "3       10455 2022-08-11             Burgers  12.99    569.67     In-store    \n",
       "4       10456 2022-08-11  Chicken Sandwiches   9.95    201.01     In-store    \n",
       "..        ...        ...                 ...    ...       ...           ...   \n",
       "249     10709        NaT       Sides & Other   4.99    200.40   Drive-thru    \n",
       "250     10710        NaT             Burgers  12.99    754.43   Drive-thru    \n",
       "251     10711        NaT  Chicken Sandwiches   9.95    281.41   Drive-thru    \n",
       "252     10712        NaT               Fries   3.49    630.37   Drive-thru    \n",
       "253     10713        NaT           Beverages   2.95    677.97   Drive-thru    \n",
       "\n",
       "    Payment Method        Manager    City  Total Sales    Revenue  Month  \n",
       "0        Gift Card    Tom Jackson  London    2000.0143  2000.0143    7.0  \n",
       "1        Gift Card    Pablo Perez  Madrid    2199.9920  2199.9920    7.0  \n",
       "2        Gift Card     Joao Silva  Lisbon     999.9960   999.9960    7.0  \n",
       "3      Credit Card  Walter Muller  Berlin    7400.0133  7400.0133    8.0  \n",
       "4      Credit Card  Walter Muller  Berlin    2000.0495  2000.0495    8.0  \n",
       "..             ...            ...     ...          ...        ...    ...  \n",
       "249      Gift Card  Walter Muller  Berlin     999.9960   999.9960    NaN  \n",
       "250      Gift Card  Walter Muller  Berlin    9800.0457  9800.0457    NaN  \n",
       "251      Gift Card  Walter Muller  Berlin    2800.0295  2800.0295    NaN  \n",
       "252      Gift Card  Walter Muller  Berlin    2199.9913  2199.9913    NaN  \n",
       "253      Gift Card  Walter Muller  Berlin    2000.0115  2000.0115    NaN  \n",
       "\n",
       "[254 rows x 12 columns]"
      ]
     },
     "execution_count": 63,
     "metadata": {},
     "output_type": "execute_result"
    }
   ],
   "source": [
    "data"
   ]
  },
  {
   "cell_type": "code",
   "execution_count": 64,
   "id": "714605b3-1263-44fb-9ae1-41ce72f5603a",
   "metadata": {},
   "outputs": [
    {
     "data": {
      "text/html": [
       "<div>\n",
       "<style scoped>\n",
       "    .dataframe tbody tr th:only-of-type {\n",
       "        vertical-align: middle;\n",
       "    }\n",
       "\n",
       "    .dataframe tbody tr th {\n",
       "        vertical-align: top;\n",
       "    }\n",
       "\n",
       "    .dataframe thead th {\n",
       "        text-align: right;\n",
       "    }\n",
       "</style>\n",
       "<table border=\"1\" class=\"dataframe\">\n",
       "  <thead>\n",
       "    <tr style=\"text-align: right;\">\n",
       "      <th></th>\n",
       "      <th>Order ID</th>\n",
       "      <th>Date</th>\n",
       "      <th>Product</th>\n",
       "      <th>Price</th>\n",
       "      <th>Quantity</th>\n",
       "      <th>Purchase Type</th>\n",
       "      <th>Payment Method</th>\n",
       "      <th>Manager</th>\n",
       "      <th>City</th>\n",
       "      <th>Total Sales</th>\n",
       "      <th>Revenue</th>\n",
       "      <th>Month</th>\n",
       "    </tr>\n",
       "  </thead>\n",
       "  <tbody>\n",
       "    <tr>\n",
       "      <th>16</th>\n",
       "      <td>10470</td>\n",
       "      <td>2022-11-11</td>\n",
       "      <td>Burgers</td>\n",
       "      <td>12.99</td>\n",
       "      <td>554.27</td>\n",
       "      <td>In-store</td>\n",
       "      <td>Credit Card</td>\n",
       "      <td>Pablo Perez</td>\n",
       "      <td>Madrid</td>\n",
       "      <td>7199.9673</td>\n",
       "      <td>7199.9673</td>\n",
       "      <td>11.0</td>\n",
       "    </tr>\n",
       "    <tr>\n",
       "      <th>17</th>\n",
       "      <td>10471</td>\n",
       "      <td>2022-11-11</td>\n",
       "      <td>Chicken Sandwiches</td>\n",
       "      <td>9.95</td>\n",
       "      <td>201.01</td>\n",
       "      <td>In-store</td>\n",
       "      <td>Credit Card</td>\n",
       "      <td>Pablo Perez</td>\n",
       "      <td>Madrid</td>\n",
       "      <td>2000.0495</td>\n",
       "      <td>2000.0495</td>\n",
       "      <td>11.0</td>\n",
       "    </tr>\n",
       "    <tr>\n",
       "      <th>18</th>\n",
       "      <td>10472</td>\n",
       "      <td>2022-11-11</td>\n",
       "      <td>Fries</td>\n",
       "      <td>3.49</td>\n",
       "      <td>630.37</td>\n",
       "      <td>In-store</td>\n",
       "      <td>Credit Card</td>\n",
       "      <td>Pablo Perez</td>\n",
       "      <td>Madrid</td>\n",
       "      <td>2199.9913</td>\n",
       "      <td>2199.9913</td>\n",
       "      <td>11.0</td>\n",
       "    </tr>\n",
       "    <tr>\n",
       "      <th>19</th>\n",
       "      <td>10473</td>\n",
       "      <td>2022-11-11</td>\n",
       "      <td>Beverages</td>\n",
       "      <td>2.95</td>\n",
       "      <td>677.97</td>\n",
       "      <td>In-store</td>\n",
       "      <td>Credit Card</td>\n",
       "      <td>Pablo Perez</td>\n",
       "      <td>Madrid</td>\n",
       "      <td>2000.0115</td>\n",
       "      <td>2000.0115</td>\n",
       "      <td>11.0</td>\n",
       "    </tr>\n",
       "    <tr>\n",
       "      <th>20</th>\n",
       "      <td>10474</td>\n",
       "      <td>2022-11-11</td>\n",
       "      <td>Sides &amp; Other</td>\n",
       "      <td>4.99</td>\n",
       "      <td>200.40</td>\n",
       "      <td>In-store</td>\n",
       "      <td>Credit Card</td>\n",
       "      <td>Pablo Perez</td>\n",
       "      <td>Madrid</td>\n",
       "      <td>999.9960</td>\n",
       "      <td>999.9960</td>\n",
       "      <td>11.0</td>\n",
       "    </tr>\n",
       "    <tr>\n",
       "      <th>160</th>\n",
       "      <td>10620</td>\n",
       "      <td>2022-11-12</td>\n",
       "      <td>Burgers</td>\n",
       "      <td>12.99</td>\n",
       "      <td>585.07</td>\n",
       "      <td>Online</td>\n",
       "      <td>Gift Card</td>\n",
       "      <td>Tom Jackson</td>\n",
       "      <td>London</td>\n",
       "      <td>7600.0593</td>\n",
       "      <td>7600.0593</td>\n",
       "      <td>11.0</td>\n",
       "    </tr>\n",
       "    <tr>\n",
       "      <th>161</th>\n",
       "      <td>10621</td>\n",
       "      <td>2022-11-12</td>\n",
       "      <td>Chicken Sandwiches</td>\n",
       "      <td>9.95</td>\n",
       "      <td>201.01</td>\n",
       "      <td>Online</td>\n",
       "      <td>Gift Card</td>\n",
       "      <td>Tom Jackson</td>\n",
       "      <td>London</td>\n",
       "      <td>2000.0495</td>\n",
       "      <td>2000.0495</td>\n",
       "      <td>11.0</td>\n",
       "    </tr>\n",
       "    <tr>\n",
       "      <th>162</th>\n",
       "      <td>10622</td>\n",
       "      <td>2022-11-12</td>\n",
       "      <td>Fries</td>\n",
       "      <td>3.49</td>\n",
       "      <td>630.37</td>\n",
       "      <td>Online</td>\n",
       "      <td>Gift Card</td>\n",
       "      <td>Tom Jackson</td>\n",
       "      <td>London</td>\n",
       "      <td>2199.9913</td>\n",
       "      <td>2199.9913</td>\n",
       "      <td>11.0</td>\n",
       "    </tr>\n",
       "    <tr>\n",
       "      <th>163</th>\n",
       "      <td>10623</td>\n",
       "      <td>2022-11-12</td>\n",
       "      <td>Beverages</td>\n",
       "      <td>2.95</td>\n",
       "      <td>745.76</td>\n",
       "      <td>Online</td>\n",
       "      <td>Gift Card</td>\n",
       "      <td>Tom Jackson</td>\n",
       "      <td>London</td>\n",
       "      <td>2199.9920</td>\n",
       "      <td>2199.9920</td>\n",
       "      <td>11.0</td>\n",
       "    </tr>\n",
       "    <tr>\n",
       "      <th>164</th>\n",
       "      <td>10624</td>\n",
       "      <td>2022-11-12</td>\n",
       "      <td>Sides &amp; Other</td>\n",
       "      <td>4.99</td>\n",
       "      <td>200.40</td>\n",
       "      <td>Online</td>\n",
       "      <td>Gift Card</td>\n",
       "      <td>Tom Jackson</td>\n",
       "      <td>London</td>\n",
       "      <td>999.9960</td>\n",
       "      <td>999.9960</td>\n",
       "      <td>11.0</td>\n",
       "    </tr>\n",
       "  </tbody>\n",
       "</table>\n",
       "</div>"
      ],
      "text/plain": [
       "     Order ID       Date             Product  Price  Quantity Purchase Type  \\\n",
       "16      10470 2022-11-11             Burgers  12.99    554.27     In-store    \n",
       "17      10471 2022-11-11  Chicken Sandwiches   9.95    201.01     In-store    \n",
       "18      10472 2022-11-11               Fries   3.49    630.37     In-store    \n",
       "19      10473 2022-11-11           Beverages   2.95    677.97     In-store    \n",
       "20      10474 2022-11-11       Sides & Other   4.99    200.40     In-store    \n",
       "160     10620 2022-11-12             Burgers  12.99    585.07       Online    \n",
       "161     10621 2022-11-12  Chicken Sandwiches   9.95    201.01       Online    \n",
       "162     10622 2022-11-12               Fries   3.49    630.37       Online    \n",
       "163     10623 2022-11-12           Beverages   2.95    745.76       Online    \n",
       "164     10624 2022-11-12       Sides & Other   4.99    200.40       Online    \n",
       "\n",
       "    Payment Method      Manager    City  Total Sales    Revenue  Month  \n",
       "16     Credit Card  Pablo Perez  Madrid    7199.9673  7199.9673   11.0  \n",
       "17     Credit Card  Pablo Perez  Madrid    2000.0495  2000.0495   11.0  \n",
       "18     Credit Card  Pablo Perez  Madrid    2199.9913  2199.9913   11.0  \n",
       "19     Credit Card  Pablo Perez  Madrid    2000.0115  2000.0115   11.0  \n",
       "20     Credit Card  Pablo Perez  Madrid     999.9960   999.9960   11.0  \n",
       "160      Gift Card  Tom Jackson  London    7600.0593  7600.0593   11.0  \n",
       "161      Gift Card  Tom Jackson  London    2000.0495  2000.0495   11.0  \n",
       "162      Gift Card  Tom Jackson  London    2199.9913  2199.9913   11.0  \n",
       "163      Gift Card  Tom Jackson  London    2199.9920  2199.9920   11.0  \n",
       "164      Gift Card  Tom Jackson  London     999.9960   999.9960   11.0  "
      ]
     },
     "execution_count": 64,
     "metadata": {},
     "output_type": "execute_result"
    }
   ],
   "source": [
    "m11 = data[data['Month'] == 11]          # filtering the records with month '11'\n",
    "m11"
   ]
  },
  {
   "cell_type": "code",
   "execution_count": 65,
   "id": "28ef3e7e-c45a-40f8-8622-8b2314c6c430",
   "metadata": {},
   "outputs": [
    {
     "data": {
      "text/plain": [
       "np.float64(2940.01037)"
      ]
     },
     "execution_count": 65,
     "metadata": {},
     "output_type": "execute_result"
    }
   ],
   "source": [
    "m11.Revenue.mean()                           # to show the mean revenue"
   ]
  },
  {
   "cell_type": "code",
   "execution_count": 66,
   "id": "58d6e579-c06d-4cc1-a31d-952c4772d248",
   "metadata": {},
   "outputs": [
    {
     "data": {
      "text/html": [
       "<div>\n",
       "<style scoped>\n",
       "    .dataframe tbody tr th:only-of-type {\n",
       "        vertical-align: middle;\n",
       "    }\n",
       "\n",
       "    .dataframe tbody tr th {\n",
       "        vertical-align: top;\n",
       "    }\n",
       "\n",
       "    .dataframe thead th {\n",
       "        text-align: right;\n",
       "    }\n",
       "</style>\n",
       "<table border=\"1\" class=\"dataframe\">\n",
       "  <thead>\n",
       "    <tr style=\"text-align: right;\">\n",
       "      <th></th>\n",
       "      <th>Order ID</th>\n",
       "      <th>Date</th>\n",
       "      <th>Product</th>\n",
       "      <th>Price</th>\n",
       "      <th>Quantity</th>\n",
       "      <th>Purchase Type</th>\n",
       "      <th>Payment Method</th>\n",
       "      <th>Manager</th>\n",
       "      <th>City</th>\n",
       "      <th>Total Sales</th>\n",
       "      <th>Revenue</th>\n",
       "      <th>Month</th>\n",
       "    </tr>\n",
       "  </thead>\n",
       "  <tbody>\n",
       "    <tr>\n",
       "      <th>21</th>\n",
       "      <td>10475</td>\n",
       "      <td>2022-12-11</td>\n",
       "      <td>Burgers</td>\n",
       "      <td>12.99</td>\n",
       "      <td>523.48</td>\n",
       "      <td>In-store</td>\n",
       "      <td>Credit Card</td>\n",
       "      <td>Pablo Perez</td>\n",
       "      <td>Madrid</td>\n",
       "      <td>6800.0052</td>\n",
       "      <td>6800.0052</td>\n",
       "      <td>12.0</td>\n",
       "    </tr>\n",
       "    <tr>\n",
       "      <th>22</th>\n",
       "      <td>10476</td>\n",
       "      <td>2022-12-11</td>\n",
       "      <td>Chicken Sandwiches</td>\n",
       "      <td>9.95</td>\n",
       "      <td>201.01</td>\n",
       "      <td>In-store</td>\n",
       "      <td>Credit Card</td>\n",
       "      <td>Pablo Perez</td>\n",
       "      <td>Madrid</td>\n",
       "      <td>2000.0495</td>\n",
       "      <td>2000.0495</td>\n",
       "      <td>12.0</td>\n",
       "    </tr>\n",
       "    <tr>\n",
       "      <th>23</th>\n",
       "      <td>10477</td>\n",
       "      <td>2022-12-11</td>\n",
       "      <td>Fries</td>\n",
       "      <td>3.49</td>\n",
       "      <td>630.37</td>\n",
       "      <td>In-store</td>\n",
       "      <td>Credit Card</td>\n",
       "      <td>Pablo Perez</td>\n",
       "      <td>Madrid</td>\n",
       "      <td>2199.9913</td>\n",
       "      <td>2199.9913</td>\n",
       "      <td>12.0</td>\n",
       "    </tr>\n",
       "    <tr>\n",
       "      <th>24</th>\n",
       "      <td>10478</td>\n",
       "      <td>2022-12-11</td>\n",
       "      <td>Beverages</td>\n",
       "      <td>2.95</td>\n",
       "      <td>677.97</td>\n",
       "      <td>In-store</td>\n",
       "      <td>Credit Card</td>\n",
       "      <td>Pablo Perez</td>\n",
       "      <td>Madrid</td>\n",
       "      <td>2000.0115</td>\n",
       "      <td>2000.0115</td>\n",
       "      <td>12.0</td>\n",
       "    </tr>\n",
       "    <tr>\n",
       "      <th>25</th>\n",
       "      <td>10479</td>\n",
       "      <td>2022-12-11</td>\n",
       "      <td>Sides &amp; Other</td>\n",
       "      <td>4.99</td>\n",
       "      <td>200.40</td>\n",
       "      <td>In-store</td>\n",
       "      <td>Credit Card</td>\n",
       "      <td>Pablo Perez</td>\n",
       "      <td>Madrid</td>\n",
       "      <td>999.9960</td>\n",
       "      <td>999.9960</td>\n",
       "      <td>12.0</td>\n",
       "    </tr>\n",
       "    <tr>\n",
       "      <th>165</th>\n",
       "      <td>10625</td>\n",
       "      <td>2022-12-12</td>\n",
       "      <td>Burgers</td>\n",
       "      <td>12.99</td>\n",
       "      <td>569.67</td>\n",
       "      <td>Online</td>\n",
       "      <td>Gift Card</td>\n",
       "      <td>Tom Jackson</td>\n",
       "      <td>London</td>\n",
       "      <td>7400.0133</td>\n",
       "      <td>7400.0133</td>\n",
       "      <td>12.0</td>\n",
       "    </tr>\n",
       "    <tr>\n",
       "      <th>166</th>\n",
       "      <td>10626</td>\n",
       "      <td>2022-12-12</td>\n",
       "      <td>Chicken Sandwiches</td>\n",
       "      <td>9.95</td>\n",
       "      <td>201.01</td>\n",
       "      <td>Online</td>\n",
       "      <td>Gift Card</td>\n",
       "      <td>Tom Jackson</td>\n",
       "      <td>London</td>\n",
       "      <td>2000.0495</td>\n",
       "      <td>2000.0495</td>\n",
       "      <td>12.0</td>\n",
       "    </tr>\n",
       "    <tr>\n",
       "      <th>167</th>\n",
       "      <td>10627</td>\n",
       "      <td>2022-12-12</td>\n",
       "      <td>Fries</td>\n",
       "      <td>3.49</td>\n",
       "      <td>630.37</td>\n",
       "      <td>Online</td>\n",
       "      <td>Gift Card</td>\n",
       "      <td>Tom Jackson</td>\n",
       "      <td>London</td>\n",
       "      <td>2199.9913</td>\n",
       "      <td>2199.9913</td>\n",
       "      <td>12.0</td>\n",
       "    </tr>\n",
       "    <tr>\n",
       "      <th>168</th>\n",
       "      <td>10628</td>\n",
       "      <td>2022-12-12</td>\n",
       "      <td>Beverages</td>\n",
       "      <td>2.95</td>\n",
       "      <td>677.97</td>\n",
       "      <td>Online</td>\n",
       "      <td>Gift Card</td>\n",
       "      <td>Joao Silva</td>\n",
       "      <td>Lisbon</td>\n",
       "      <td>2000.0115</td>\n",
       "      <td>2000.0115</td>\n",
       "      <td>12.0</td>\n",
       "    </tr>\n",
       "    <tr>\n",
       "      <th>169</th>\n",
       "      <td>10629</td>\n",
       "      <td>2022-12-12</td>\n",
       "      <td>Sides &amp; Other</td>\n",
       "      <td>4.99</td>\n",
       "      <td>200.40</td>\n",
       "      <td>Online</td>\n",
       "      <td>Gift Card</td>\n",
       "      <td>Joao Silva</td>\n",
       "      <td>Lisbon</td>\n",
       "      <td>999.9960</td>\n",
       "      <td>999.9960</td>\n",
       "      <td>12.0</td>\n",
       "    </tr>\n",
       "  </tbody>\n",
       "</table>\n",
       "</div>"
      ],
      "text/plain": [
       "     Order ID       Date             Product  Price  Quantity Purchase Type  \\\n",
       "21      10475 2022-12-11             Burgers  12.99    523.48     In-store    \n",
       "22      10476 2022-12-11  Chicken Sandwiches   9.95    201.01     In-store    \n",
       "23      10477 2022-12-11               Fries   3.49    630.37     In-store    \n",
       "24      10478 2022-12-11           Beverages   2.95    677.97     In-store    \n",
       "25      10479 2022-12-11       Sides & Other   4.99    200.40     In-store    \n",
       "165     10625 2022-12-12             Burgers  12.99    569.67       Online    \n",
       "166     10626 2022-12-12  Chicken Sandwiches   9.95    201.01       Online    \n",
       "167     10627 2022-12-12               Fries   3.49    630.37       Online    \n",
       "168     10628 2022-12-12           Beverages   2.95    677.97       Online    \n",
       "169     10629 2022-12-12       Sides & Other   4.99    200.40       Online    \n",
       "\n",
       "    Payment Method      Manager    City  Total Sales    Revenue  Month  \n",
       "21     Credit Card  Pablo Perez  Madrid    6800.0052  6800.0052   12.0  \n",
       "22     Credit Card  Pablo Perez  Madrid    2000.0495  2000.0495   12.0  \n",
       "23     Credit Card  Pablo Perez  Madrid    2199.9913  2199.9913   12.0  \n",
       "24     Credit Card  Pablo Perez  Madrid    2000.0115  2000.0115   12.0  \n",
       "25     Credit Card  Pablo Perez  Madrid     999.9960   999.9960   12.0  \n",
       "165      Gift Card  Tom Jackson  London    7400.0133  7400.0133   12.0  \n",
       "166      Gift Card  Tom Jackson  London    2000.0495  2000.0495   12.0  \n",
       "167      Gift Card  Tom Jackson  London    2199.9913  2199.9913   12.0  \n",
       "168      Gift Card   Joao Silva  Lisbon    2000.0115  2000.0115   12.0  \n",
       "169      Gift Card   Joao Silva  Lisbon     999.9960   999.9960   12.0  "
      ]
     },
     "execution_count": 66,
     "metadata": {},
     "output_type": "execute_result"
    }
   ],
   "source": [
    "m12 = data[data.Month == 12]                  # filtering the records with month '12'\n",
    "m12"
   ]
  },
  {
   "cell_type": "code",
   "execution_count": 67,
   "id": "c449667d-8648-4fa5-8c4a-053428d00379",
   "metadata": {},
   "outputs": [
    {
     "data": {
      "text/plain": [
       "np.float64(2860.0115100000003)"
      ]
     },
     "execution_count": 67,
     "metadata": {},
     "output_type": "execute_result"
    }
   ],
   "source": [
    "m12.Revenue.mean()                                  # to show the mean revenue"
   ]
  },
  {
   "cell_type": "code",
   "execution_count": 68,
   "id": "777533a4-cecd-4a86-9c00-fb7f1494e791",
   "metadata": {},
   "outputs": [],
   "source": [
    "### Q7. What is the Standard Deviation of Revenue and Quantity?"
   ]
  },
  {
   "cell_type": "code",
   "execution_count": 69,
   "id": "f3d097ab-049b-42c8-95e0-cb98e7e345d0",
   "metadata": {},
   "outputs": [
    {
     "data": {
      "text/plain": [
       "np.float64(214.88869921528874)"
      ]
     },
     "execution_count": 69,
     "metadata": {},
     "output_type": "execute_result"
    }
   ],
   "source": [
    "data['Quantity'].std()"
   ]
  },
  {
   "cell_type": "code",
   "execution_count": 70,
   "id": "6de56a8a-72b4-415d-be35-4899b22031d4",
   "metadata": {},
   "outputs": [
    {
     "data": {
      "text/plain": [
       "np.float64(2420.11837804107)"
      ]
     },
     "execution_count": 70,
     "metadata": {},
     "output_type": "execute_result"
    }
   ],
   "source": [
    "data['Revenue'].std()"
   ]
  },
  {
   "cell_type": "code",
   "execution_count": 71,
   "id": "94c51062-ddbf-4765-bb98-a63a8b3117b3",
   "metadata": {},
   "outputs": [],
   "source": [
    "### Q8. What is the Variance of Revenue and Quantity?"
   ]
  },
  {
   "cell_type": "code",
   "execution_count": 72,
   "id": "f789e52f-56e4-4192-8d1f-42acdcae0b1c",
   "metadata": {},
   "outputs": [
    {
     "data": {
      "text/plain": [
       "np.float64(46177.153050438836)"
      ]
     },
     "execution_count": 72,
     "metadata": {},
     "output_type": "execute_result"
    }
   ],
   "source": [
    "data['Quantity'].var()"
   ]
  },
  {
   "cell_type": "code",
   "execution_count": 73,
   "id": "e7bec14d-52e9-4ccb-89a4-238c226c4234",
   "metadata": {},
   "outputs": [
    {
     "data": {
      "text/plain": [
       "np.float64(5856972.963732139)"
      ]
     },
     "execution_count": 73,
     "metadata": {},
     "output_type": "execute_result"
    }
   ],
   "source": [
    "data['Revenue'].var()"
   ]
  },
  {
   "cell_type": "code",
   "execution_count": 74,
   "id": "4425271e-49c5-4630-be77-a4bfac152c00",
   "metadata": {},
   "outputs": [],
   "source": [
    "### Q9. What are the Average Quantity Sold and Average Revenue per Product?"
   ]
  },
  {
   "cell_type": "code",
   "execution_count": 75,
   "id": "4d7579dd-f7bc-46b2-a774-a9ee73152210",
   "metadata": {},
   "outputs": [
    {
     "data": {
      "text/html": [
       "<div>\n",
       "<style scoped>\n",
       "    .dataframe tbody tr th:only-of-type {\n",
       "        vertical-align: middle;\n",
       "    }\n",
       "\n",
       "    .dataframe tbody tr th {\n",
       "        vertical-align: top;\n",
       "    }\n",
       "\n",
       "    .dataframe thead th {\n",
       "        text-align: right;\n",
       "    }\n",
       "</style>\n",
       "<table border=\"1\" class=\"dataframe\">\n",
       "  <thead>\n",
       "    <tr style=\"text-align: right;\">\n",
       "      <th></th>\n",
       "      <th>Order ID</th>\n",
       "      <th>Date</th>\n",
       "      <th>Product</th>\n",
       "      <th>Price</th>\n",
       "      <th>Quantity</th>\n",
       "      <th>Purchase Type</th>\n",
       "      <th>Payment Method</th>\n",
       "      <th>Manager</th>\n",
       "      <th>City</th>\n",
       "      <th>Total Sales</th>\n",
       "      <th>Revenue</th>\n",
       "      <th>Month</th>\n",
       "    </tr>\n",
       "  </thead>\n",
       "  <tbody>\n",
       "    <tr>\n",
       "      <th>0</th>\n",
       "      <td>10452</td>\n",
       "      <td>2022-07-11</td>\n",
       "      <td>Fries</td>\n",
       "      <td>3.49</td>\n",
       "      <td>573.07</td>\n",
       "      <td>Online</td>\n",
       "      <td>Gift Card</td>\n",
       "      <td>Tom Jackson</td>\n",
       "      <td>London</td>\n",
       "      <td>2000.0143</td>\n",
       "      <td>2000.0143</td>\n",
       "      <td>7.0</td>\n",
       "    </tr>\n",
       "    <tr>\n",
       "      <th>1</th>\n",
       "      <td>10453</td>\n",
       "      <td>2022-07-11</td>\n",
       "      <td>Beverages</td>\n",
       "      <td>2.95</td>\n",
       "      <td>745.76</td>\n",
       "      <td>Online</td>\n",
       "      <td>Gift Card</td>\n",
       "      <td>Pablo Perez</td>\n",
       "      <td>Madrid</td>\n",
       "      <td>2199.9920</td>\n",
       "      <td>2199.9920</td>\n",
       "      <td>7.0</td>\n",
       "    </tr>\n",
       "  </tbody>\n",
       "</table>\n",
       "</div>"
      ],
      "text/plain": [
       "   Order ID       Date    Product  Price  Quantity Purchase Type  \\\n",
       "0     10452 2022-07-11      Fries   3.49    573.07       Online    \n",
       "1     10453 2022-07-11  Beverages   2.95    745.76       Online    \n",
       "\n",
       "  Payment Method      Manager    City  Total Sales    Revenue  Month  \n",
       "0      Gift Card  Tom Jackson  London    2000.0143  2000.0143    7.0  \n",
       "1      Gift Card  Pablo Perez  Madrid    2199.9920  2199.9920    7.0  "
      ]
     },
     "execution_count": 75,
     "metadata": {},
     "output_type": "execute_result"
    }
   ],
   "source": [
    "data.head(2)"
   ]
  },
  {
   "cell_type": "code",
   "execution_count": 76,
   "id": "18fd686d-3496-452b-940f-68a236719c60",
   "metadata": {},
   "outputs": [
    {
     "data": {
      "text/html": [
       "<div>\n",
       "<style scoped>\n",
       "    .dataframe tbody tr th:only-of-type {\n",
       "        vertical-align: middle;\n",
       "    }\n",
       "\n",
       "    .dataframe tbody tr th {\n",
       "        vertical-align: top;\n",
       "    }\n",
       "\n",
       "    .dataframe thead th {\n",
       "        text-align: right;\n",
       "    }\n",
       "</style>\n",
       "<table border=\"1\" class=\"dataframe\">\n",
       "  <thead>\n",
       "    <tr style=\"text-align: right;\">\n",
       "      <th></th>\n",
       "      <th>Quantity</th>\n",
       "      <th>Total Sales</th>\n",
       "    </tr>\n",
       "    <tr>\n",
       "      <th>Product</th>\n",
       "      <th></th>\n",
       "      <th></th>\n",
       "    </tr>\n",
       "  </thead>\n",
       "  <tbody>\n",
       "    <tr>\n",
       "      <th>Burgers</th>\n",
       "      <td>558.121346</td>\n",
       "      <td>7249.996287</td>\n",
       "    </tr>\n",
       "    <tr>\n",
       "      <th>Fries</th>\n",
       "      <td>628.124314</td>\n",
       "      <td>2464.201771</td>\n",
       "    </tr>\n",
       "    <tr>\n",
       "      <th>Chicken Sandwiches</th>\n",
       "      <td>214.152308</td>\n",
       "      <td>2204.647981</td>\n",
       "    </tr>\n",
       "    <tr>\n",
       "      <th>Beverages</th>\n",
       "      <td>699.662800</td>\n",
       "      <td>2064.005260</td>\n",
       "    </tr>\n",
       "    <tr>\n",
       "      <th>Sides &amp; Other</th>\n",
       "      <td>200.400000</td>\n",
       "      <td>999.996000</td>\n",
       "    </tr>\n",
       "  </tbody>\n",
       "</table>\n",
       "</div>"
      ],
      "text/plain": [
       "                      Quantity  Total Sales\n",
       "Product                                    \n",
       "Burgers             558.121346  7249.996287\n",
       "Fries               628.124314  2464.201771\n",
       "Chicken Sandwiches  214.152308  2204.647981\n",
       "Beverages           699.662800  2064.005260\n",
       "Sides & Other       200.400000   999.996000"
      ]
     },
     "execution_count": 76,
     "metadata": {},
     "output_type": "execute_result"
    }
   ],
   "source": [
    "data.groupby('Product')[['Quantity', 'Total Sales']].mean().sort_values(by='Total Sales', ascending=False)"
   ]
  },
  {
   "cell_type": "code",
   "execution_count": 77,
   "id": "f6909d2e-ec51-4cab-b69d-09c45bf2ffdd",
   "metadata": {},
   "outputs": [
    {
     "data": {
      "text/plain": [
       "\"\\nKey Insights:\\n\\n- The majority of customers prefer paying via Credit Card.\\n- Beverages sell the most in quantity, while burgers bring in the highest revenue.\\n- Manager 'Joao Silva' has achieved the highest Sales.\\n- Lisbon is the city with the highest revenue.\\n- Revenue shows an 'increasing trend' over time.\\n- November and December have 'higher average revenues', indicating festive season sales peaks.\\n- Products like Burger and Pizza have high average quantities sold and revenue.\\n\\n\""
      ]
     },
     "execution_count": 77,
     "metadata": {},
     "output_type": "execute_result"
    }
   ],
   "source": [
    "\"\"\"\n",
    "Key Insights:\n",
    "\n",
    "- The majority of customers prefer paying via Credit Card.\n",
    "- Beverages sell the most in quantity, while burgers bring in the highest revenue.\n",
    "- Manager 'Joao Silva' has achieved the highest Sales.\n",
    "- Lisbon is the city with the highest revenue.\n",
    "- Revenue shows an 'increasing trend' over time.\n",
    "- November and December have 'higher average revenues', indicating festive season sales peaks.\n",
    "- Products like Burger and Pizza have high average quantities sold and revenue.\n",
    "\n",
    "\"\"\"\n",
    "    "
   ]
  }
 ],
 "metadata": {
  "kernelspec": {
   "display_name": "Python 3 (ipykernel)",
   "language": "python",
   "name": "python3"
  },
  "language_info": {
   "codemirror_mode": {
    "name": "ipython",
    "version": 3
   },
   "file_extension": ".py",
   "mimetype": "text/x-python",
   "name": "python",
   "nbconvert_exporter": "python",
   "pygments_lexer": "ipython3",
   "version": "3.10.11"
  }
 },
 "nbformat": 4,
 "nbformat_minor": 5
}
